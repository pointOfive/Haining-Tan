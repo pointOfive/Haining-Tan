{
  "nbformat": 4,
  "nbformat_minor": 0,
  "metadata": {
    "colab": {
      "name": "BDL.ipynb",
      "provenance": [],
      "collapsed_sections": []
    },
    "kernelspec": {
      "name": "python3",
      "display_name": "Python 3"
    },
    "language_info": {
      "name": "python"
    },
    "widgets": {
      "application/vnd.jupyter.widget-state+json": {
        "732db48bd64049769d747bcf22e5a411": {
          "model_module": "@jupyter-widgets/controls",
          "model_name": "HBoxModel",
          "model_module_version": "1.5.0",
          "state": {
            "_view_name": "HBoxView",
            "_dom_classes": [],
            "_model_name": "HBoxModel",
            "_view_module": "@jupyter-widgets/controls",
            "_model_module_version": "1.5.0",
            "_view_count": null,
            "_view_module_version": "1.5.0",
            "box_style": "",
            "layout": "IPY_MODEL_9a4cc92556384bb8a7fd8afec3c8ce13",
            "_model_module": "@jupyter-widgets/controls",
            "children": [
              "IPY_MODEL_118021871eb2485b82854cccd4d20e0e",
              "IPY_MODEL_e6b76dd11da64f89a3e15b7d5539f460",
              "IPY_MODEL_573238abbf1f45539aa804b5b3c04ea0"
            ]
          }
        },
        "9a4cc92556384bb8a7fd8afec3c8ce13": {
          "model_module": "@jupyter-widgets/base",
          "model_name": "LayoutModel",
          "model_module_version": "1.2.0",
          "state": {
            "_view_name": "LayoutView",
            "grid_template_rows": null,
            "right": null,
            "justify_content": null,
            "_view_module": "@jupyter-widgets/base",
            "overflow": null,
            "_model_module_version": "1.2.0",
            "_view_count": null,
            "flex_flow": null,
            "width": null,
            "min_width": null,
            "border": null,
            "align_items": null,
            "bottom": null,
            "_model_module": "@jupyter-widgets/base",
            "top": null,
            "grid_column": null,
            "overflow_y": null,
            "overflow_x": null,
            "grid_auto_flow": null,
            "grid_area": null,
            "grid_template_columns": null,
            "flex": null,
            "_model_name": "LayoutModel",
            "justify_items": null,
            "grid_row": null,
            "max_height": null,
            "align_content": null,
            "visibility": null,
            "align_self": null,
            "height": null,
            "min_height": null,
            "padding": null,
            "grid_auto_rows": null,
            "grid_gap": null,
            "max_width": null,
            "order": null,
            "_view_module_version": "1.2.0",
            "grid_template_areas": null,
            "object_position": null,
            "object_fit": null,
            "grid_auto_columns": null,
            "margin": null,
            "display": null,
            "left": null
          }
        },
        "118021871eb2485b82854cccd4d20e0e": {
          "model_module": "@jupyter-widgets/controls",
          "model_name": "HTMLModel",
          "model_module_version": "1.5.0",
          "state": {
            "_view_name": "HTMLView",
            "style": "IPY_MODEL_909ef06b3aab4949914757079ac01de5",
            "_dom_classes": [],
            "description": "",
            "_model_name": "HTMLModel",
            "placeholder": "​",
            "_view_module": "@jupyter-widgets/controls",
            "_model_module_version": "1.5.0",
            "value": "Dl Completed...: 100%",
            "_view_count": null,
            "_view_module_version": "1.5.0",
            "description_tooltip": null,
            "_model_module": "@jupyter-widgets/controls",
            "layout": "IPY_MODEL_f797f1b634974b5397a9382be2804bc8"
          }
        },
        "e6b76dd11da64f89a3e15b7d5539f460": {
          "model_module": "@jupyter-widgets/controls",
          "model_name": "FloatProgressModel",
          "model_module_version": "1.5.0",
          "state": {
            "_view_name": "ProgressView",
            "style": "IPY_MODEL_f0b5bb977d7644079728440ce2b9a390",
            "_dom_classes": [],
            "description": "",
            "_model_name": "FloatProgressModel",
            "bar_style": "success",
            "max": 1,
            "_view_module": "@jupyter-widgets/controls",
            "_model_module_version": "1.5.0",
            "value": 1,
            "_view_count": null,
            "_view_module_version": "1.5.0",
            "orientation": "horizontal",
            "min": 0,
            "description_tooltip": null,
            "_model_module": "@jupyter-widgets/controls",
            "layout": "IPY_MODEL_0293302491ac4774a2acb17fbcaf2714"
          }
        },
        "573238abbf1f45539aa804b5b3c04ea0": {
          "model_module": "@jupyter-widgets/controls",
          "model_name": "HTMLModel",
          "model_module_version": "1.5.0",
          "state": {
            "_view_name": "HTMLView",
            "style": "IPY_MODEL_f692355dc0da437486da75faf79f8316",
            "_dom_classes": [],
            "description": "",
            "_model_name": "HTMLModel",
            "placeholder": "​",
            "_view_module": "@jupyter-widgets/controls",
            "_model_module_version": "1.5.0",
            "value": " 1/1 [00:00&lt;00:00,  1.46 url/s]",
            "_view_count": null,
            "_view_module_version": "1.5.0",
            "description_tooltip": null,
            "_model_module": "@jupyter-widgets/controls",
            "layout": "IPY_MODEL_021167e828b74dc2ac093d9f9a7e966c"
          }
        },
        "909ef06b3aab4949914757079ac01de5": {
          "model_module": "@jupyter-widgets/controls",
          "model_name": "DescriptionStyleModel",
          "model_module_version": "1.5.0",
          "state": {
            "_view_name": "StyleView",
            "_model_name": "DescriptionStyleModel",
            "description_width": "",
            "_view_module": "@jupyter-widgets/base",
            "_model_module_version": "1.5.0",
            "_view_count": null,
            "_view_module_version": "1.2.0",
            "_model_module": "@jupyter-widgets/controls"
          }
        },
        "f797f1b634974b5397a9382be2804bc8": {
          "model_module": "@jupyter-widgets/base",
          "model_name": "LayoutModel",
          "model_module_version": "1.2.0",
          "state": {
            "_view_name": "LayoutView",
            "grid_template_rows": null,
            "right": null,
            "justify_content": null,
            "_view_module": "@jupyter-widgets/base",
            "overflow": null,
            "_model_module_version": "1.2.0",
            "_view_count": null,
            "flex_flow": null,
            "width": null,
            "min_width": null,
            "border": null,
            "align_items": null,
            "bottom": null,
            "_model_module": "@jupyter-widgets/base",
            "top": null,
            "grid_column": null,
            "overflow_y": null,
            "overflow_x": null,
            "grid_auto_flow": null,
            "grid_area": null,
            "grid_template_columns": null,
            "flex": null,
            "_model_name": "LayoutModel",
            "justify_items": null,
            "grid_row": null,
            "max_height": null,
            "align_content": null,
            "visibility": null,
            "align_self": null,
            "height": null,
            "min_height": null,
            "padding": null,
            "grid_auto_rows": null,
            "grid_gap": null,
            "max_width": null,
            "order": null,
            "_view_module_version": "1.2.0",
            "grid_template_areas": null,
            "object_position": null,
            "object_fit": null,
            "grid_auto_columns": null,
            "margin": null,
            "display": null,
            "left": null
          }
        },
        "f0b5bb977d7644079728440ce2b9a390": {
          "model_module": "@jupyter-widgets/controls",
          "model_name": "ProgressStyleModel",
          "model_module_version": "1.5.0",
          "state": {
            "_view_name": "StyleView",
            "_model_name": "ProgressStyleModel",
            "description_width": "",
            "_view_module": "@jupyter-widgets/base",
            "_model_module_version": "1.5.0",
            "_view_count": null,
            "_view_module_version": "1.2.0",
            "bar_color": null,
            "_model_module": "@jupyter-widgets/controls"
          }
        },
        "0293302491ac4774a2acb17fbcaf2714": {
          "model_module": "@jupyter-widgets/base",
          "model_name": "LayoutModel",
          "model_module_version": "1.2.0",
          "state": {
            "_view_name": "LayoutView",
            "grid_template_rows": null,
            "right": null,
            "justify_content": null,
            "_view_module": "@jupyter-widgets/base",
            "overflow": null,
            "_model_module_version": "1.2.0",
            "_view_count": null,
            "flex_flow": null,
            "width": "20px",
            "min_width": null,
            "border": null,
            "align_items": null,
            "bottom": null,
            "_model_module": "@jupyter-widgets/base",
            "top": null,
            "grid_column": null,
            "overflow_y": null,
            "overflow_x": null,
            "grid_auto_flow": null,
            "grid_area": null,
            "grid_template_columns": null,
            "flex": null,
            "_model_name": "LayoutModel",
            "justify_items": null,
            "grid_row": null,
            "max_height": null,
            "align_content": null,
            "visibility": null,
            "align_self": null,
            "height": null,
            "min_height": null,
            "padding": null,
            "grid_auto_rows": null,
            "grid_gap": null,
            "max_width": null,
            "order": null,
            "_view_module_version": "1.2.0",
            "grid_template_areas": null,
            "object_position": null,
            "object_fit": null,
            "grid_auto_columns": null,
            "margin": null,
            "display": null,
            "left": null
          }
        },
        "f692355dc0da437486da75faf79f8316": {
          "model_module": "@jupyter-widgets/controls",
          "model_name": "DescriptionStyleModel",
          "model_module_version": "1.5.0",
          "state": {
            "_view_name": "StyleView",
            "_model_name": "DescriptionStyleModel",
            "description_width": "",
            "_view_module": "@jupyter-widgets/base",
            "_model_module_version": "1.5.0",
            "_view_count": null,
            "_view_module_version": "1.2.0",
            "_model_module": "@jupyter-widgets/controls"
          }
        },
        "021167e828b74dc2ac093d9f9a7e966c": {
          "model_module": "@jupyter-widgets/base",
          "model_name": "LayoutModel",
          "model_module_version": "1.2.0",
          "state": {
            "_view_name": "LayoutView",
            "grid_template_rows": null,
            "right": null,
            "justify_content": null,
            "_view_module": "@jupyter-widgets/base",
            "overflow": null,
            "_model_module_version": "1.2.0",
            "_view_count": null,
            "flex_flow": null,
            "width": null,
            "min_width": null,
            "border": null,
            "align_items": null,
            "bottom": null,
            "_model_module": "@jupyter-widgets/base",
            "top": null,
            "grid_column": null,
            "overflow_y": null,
            "overflow_x": null,
            "grid_auto_flow": null,
            "grid_area": null,
            "grid_template_columns": null,
            "flex": null,
            "_model_name": "LayoutModel",
            "justify_items": null,
            "grid_row": null,
            "max_height": null,
            "align_content": null,
            "visibility": null,
            "align_self": null,
            "height": null,
            "min_height": null,
            "padding": null,
            "grid_auto_rows": null,
            "grid_gap": null,
            "max_width": null,
            "order": null,
            "_view_module_version": "1.2.0",
            "grid_template_areas": null,
            "object_position": null,
            "object_fit": null,
            "grid_auto_columns": null,
            "margin": null,
            "display": null,
            "left": null
          }
        },
        "d8149908084e440ca916e8d04ad318fd": {
          "model_module": "@jupyter-widgets/controls",
          "model_name": "HBoxModel",
          "model_module_version": "1.5.0",
          "state": {
            "_view_name": "HBoxView",
            "_dom_classes": [],
            "_model_name": "HBoxModel",
            "_view_module": "@jupyter-widgets/controls",
            "_model_module_version": "1.5.0",
            "_view_count": null,
            "_view_module_version": "1.5.0",
            "box_style": "",
            "layout": "IPY_MODEL_1ea7fbc78ea3473596f0ce9a1054587d",
            "_model_module": "@jupyter-widgets/controls",
            "children": [
              "IPY_MODEL_899edc46882247eeb6bc2e5a481e2d9c",
              "IPY_MODEL_b391d9808e164767aeba389512486d20",
              "IPY_MODEL_5b6d5f4f26a545b38243e1dc0f7d6f5d"
            ]
          }
        },
        "1ea7fbc78ea3473596f0ce9a1054587d": {
          "model_module": "@jupyter-widgets/base",
          "model_name": "LayoutModel",
          "model_module_version": "1.2.0",
          "state": {
            "_view_name": "LayoutView",
            "grid_template_rows": null,
            "right": null,
            "justify_content": null,
            "_view_module": "@jupyter-widgets/base",
            "overflow": null,
            "_model_module_version": "1.2.0",
            "_view_count": null,
            "flex_flow": null,
            "width": null,
            "min_width": null,
            "border": null,
            "align_items": null,
            "bottom": null,
            "_model_module": "@jupyter-widgets/base",
            "top": null,
            "grid_column": null,
            "overflow_y": null,
            "overflow_x": null,
            "grid_auto_flow": null,
            "grid_area": null,
            "grid_template_columns": null,
            "flex": null,
            "_model_name": "LayoutModel",
            "justify_items": null,
            "grid_row": null,
            "max_height": null,
            "align_content": null,
            "visibility": null,
            "align_self": null,
            "height": null,
            "min_height": null,
            "padding": null,
            "grid_auto_rows": null,
            "grid_gap": null,
            "max_width": null,
            "order": null,
            "_view_module_version": "1.2.0",
            "grid_template_areas": null,
            "object_position": null,
            "object_fit": null,
            "grid_auto_columns": null,
            "margin": null,
            "display": null,
            "left": null
          }
        },
        "899edc46882247eeb6bc2e5a481e2d9c": {
          "model_module": "@jupyter-widgets/controls",
          "model_name": "HTMLModel",
          "model_module_version": "1.5.0",
          "state": {
            "_view_name": "HTMLView",
            "style": "IPY_MODEL_b8a155b23f804b56a5d676ede111f785",
            "_dom_classes": [],
            "description": "",
            "_model_name": "HTMLModel",
            "placeholder": "​",
            "_view_module": "@jupyter-widgets/controls",
            "_model_module_version": "1.5.0",
            "value": "Dl Size...: ",
            "_view_count": null,
            "_view_module_version": "1.5.0",
            "description_tooltip": null,
            "_model_module": "@jupyter-widgets/controls",
            "layout": "IPY_MODEL_ad709d1c29524b3b89c6b06cbe34ce53"
          }
        },
        "b391d9808e164767aeba389512486d20": {
          "model_module": "@jupyter-widgets/controls",
          "model_name": "FloatProgressModel",
          "model_module_version": "1.5.0",
          "state": {
            "_view_name": "ProgressView",
            "style": "IPY_MODEL_e6371d4fd4384666a7bb3d424c4a1330",
            "_dom_classes": [],
            "description": "",
            "_model_name": "FloatProgressModel",
            "bar_style": "success",
            "max": 1,
            "_view_module": "@jupyter-widgets/controls",
            "_model_module_version": "1.5.0",
            "value": 0,
            "_view_count": null,
            "_view_module_version": "1.5.0",
            "orientation": "horizontal",
            "min": 0,
            "description_tooltip": null,
            "_model_module": "@jupyter-widgets/controls",
            "layout": "IPY_MODEL_e596fc6d75c44513a474e415272a7960"
          }
        },
        "5b6d5f4f26a545b38243e1dc0f7d6f5d": {
          "model_module": "@jupyter-widgets/controls",
          "model_name": "HTMLModel",
          "model_module_version": "1.5.0",
          "state": {
            "_view_name": "HTMLView",
            "style": "IPY_MODEL_a626b465463c4c1db7264da3ff1275c7",
            "_dom_classes": [],
            "description": "",
            "_model_name": "HTMLModel",
            "placeholder": "​",
            "_view_module": "@jupyter-widgets/controls",
            "_model_module_version": "1.5.0",
            "value": " 0/0 [00:00&lt;?, ? MiB/s]",
            "_view_count": null,
            "_view_module_version": "1.5.0",
            "description_tooltip": null,
            "_model_module": "@jupyter-widgets/controls",
            "layout": "IPY_MODEL_751a35b0d80744e291e162d737df772d"
          }
        },
        "b8a155b23f804b56a5d676ede111f785": {
          "model_module": "@jupyter-widgets/controls",
          "model_name": "DescriptionStyleModel",
          "model_module_version": "1.5.0",
          "state": {
            "_view_name": "StyleView",
            "_model_name": "DescriptionStyleModel",
            "description_width": "",
            "_view_module": "@jupyter-widgets/base",
            "_model_module_version": "1.5.0",
            "_view_count": null,
            "_view_module_version": "1.2.0",
            "_model_module": "@jupyter-widgets/controls"
          }
        },
        "ad709d1c29524b3b89c6b06cbe34ce53": {
          "model_module": "@jupyter-widgets/base",
          "model_name": "LayoutModel",
          "model_module_version": "1.2.0",
          "state": {
            "_view_name": "LayoutView",
            "grid_template_rows": null,
            "right": null,
            "justify_content": null,
            "_view_module": "@jupyter-widgets/base",
            "overflow": null,
            "_model_module_version": "1.2.0",
            "_view_count": null,
            "flex_flow": null,
            "width": null,
            "min_width": null,
            "border": null,
            "align_items": null,
            "bottom": null,
            "_model_module": "@jupyter-widgets/base",
            "top": null,
            "grid_column": null,
            "overflow_y": null,
            "overflow_x": null,
            "grid_auto_flow": null,
            "grid_area": null,
            "grid_template_columns": null,
            "flex": null,
            "_model_name": "LayoutModel",
            "justify_items": null,
            "grid_row": null,
            "max_height": null,
            "align_content": null,
            "visibility": null,
            "align_self": null,
            "height": null,
            "min_height": null,
            "padding": null,
            "grid_auto_rows": null,
            "grid_gap": null,
            "max_width": null,
            "order": null,
            "_view_module_version": "1.2.0",
            "grid_template_areas": null,
            "object_position": null,
            "object_fit": null,
            "grid_auto_columns": null,
            "margin": null,
            "display": null,
            "left": null
          }
        },
        "e6371d4fd4384666a7bb3d424c4a1330": {
          "model_module": "@jupyter-widgets/controls",
          "model_name": "ProgressStyleModel",
          "model_module_version": "1.5.0",
          "state": {
            "_view_name": "StyleView",
            "_model_name": "ProgressStyleModel",
            "description_width": "",
            "_view_module": "@jupyter-widgets/base",
            "_model_module_version": "1.5.0",
            "_view_count": null,
            "_view_module_version": "1.2.0",
            "bar_color": null,
            "_model_module": "@jupyter-widgets/controls"
          }
        },
        "e596fc6d75c44513a474e415272a7960": {
          "model_module": "@jupyter-widgets/base",
          "model_name": "LayoutModel",
          "model_module_version": "1.2.0",
          "state": {
            "_view_name": "LayoutView",
            "grid_template_rows": null,
            "right": null,
            "justify_content": null,
            "_view_module": "@jupyter-widgets/base",
            "overflow": null,
            "_model_module_version": "1.2.0",
            "_view_count": null,
            "flex_flow": null,
            "width": "20px",
            "min_width": null,
            "border": null,
            "align_items": null,
            "bottom": null,
            "_model_module": "@jupyter-widgets/base",
            "top": null,
            "grid_column": null,
            "overflow_y": null,
            "overflow_x": null,
            "grid_auto_flow": null,
            "grid_area": null,
            "grid_template_columns": null,
            "flex": null,
            "_model_name": "LayoutModel",
            "justify_items": null,
            "grid_row": null,
            "max_height": null,
            "align_content": null,
            "visibility": null,
            "align_self": null,
            "height": null,
            "min_height": null,
            "padding": null,
            "grid_auto_rows": null,
            "grid_gap": null,
            "max_width": null,
            "order": null,
            "_view_module_version": "1.2.0",
            "grid_template_areas": null,
            "object_position": null,
            "object_fit": null,
            "grid_auto_columns": null,
            "margin": null,
            "display": null,
            "left": null
          }
        },
        "a626b465463c4c1db7264da3ff1275c7": {
          "model_module": "@jupyter-widgets/controls",
          "model_name": "DescriptionStyleModel",
          "model_module_version": "1.5.0",
          "state": {
            "_view_name": "StyleView",
            "_model_name": "DescriptionStyleModel",
            "description_width": "",
            "_view_module": "@jupyter-widgets/base",
            "_model_module_version": "1.5.0",
            "_view_count": null,
            "_view_module_version": "1.2.0",
            "_model_module": "@jupyter-widgets/controls"
          }
        },
        "751a35b0d80744e291e162d737df772d": {
          "model_module": "@jupyter-widgets/base",
          "model_name": "LayoutModel",
          "model_module_version": "1.2.0",
          "state": {
            "_view_name": "LayoutView",
            "grid_template_rows": null,
            "right": null,
            "justify_content": null,
            "_view_module": "@jupyter-widgets/base",
            "overflow": null,
            "_model_module_version": "1.2.0",
            "_view_count": null,
            "flex_flow": null,
            "width": null,
            "min_width": null,
            "border": null,
            "align_items": null,
            "bottom": null,
            "_model_module": "@jupyter-widgets/base",
            "top": null,
            "grid_column": null,
            "overflow_y": null,
            "overflow_x": null,
            "grid_auto_flow": null,
            "grid_area": null,
            "grid_template_columns": null,
            "flex": null,
            "_model_name": "LayoutModel",
            "justify_items": null,
            "grid_row": null,
            "max_height": null,
            "align_content": null,
            "visibility": null,
            "align_self": null,
            "height": null,
            "min_height": null,
            "padding": null,
            "grid_auto_rows": null,
            "grid_gap": null,
            "max_width": null,
            "order": null,
            "_view_module_version": "1.2.0",
            "grid_template_areas": null,
            "object_position": null,
            "object_fit": null,
            "grid_auto_columns": null,
            "margin": null,
            "display": null,
            "left": null
          }
        },
        "ac0844ffe9dc48088605235a2c103d09": {
          "model_module": "@jupyter-widgets/controls",
          "model_name": "HBoxModel",
          "model_module_version": "1.5.0",
          "state": {
            "_view_name": "HBoxView",
            "_dom_classes": [],
            "_model_name": "HBoxModel",
            "_view_module": "@jupyter-widgets/controls",
            "_model_module_version": "1.5.0",
            "_view_count": null,
            "_view_module_version": "1.5.0",
            "box_style": "",
            "layout": "IPY_MODEL_dba7cf8a50af44c798196b26a5adc7b3",
            "_model_module": "@jupyter-widgets/controls",
            "children": [
              "IPY_MODEL_145ea200039c4cbc9220daace56498e8",
              "IPY_MODEL_9af59726a26b41f6954f45d2e65892aa",
              "IPY_MODEL_a3fdee4fe8dc47e0942cb00c3e69fb52"
            ]
          }
        },
        "dba7cf8a50af44c798196b26a5adc7b3": {
          "model_module": "@jupyter-widgets/base",
          "model_name": "LayoutModel",
          "model_module_version": "1.2.0",
          "state": {
            "_view_name": "LayoutView",
            "grid_template_rows": null,
            "right": null,
            "justify_content": null,
            "_view_module": "@jupyter-widgets/base",
            "overflow": null,
            "_model_module_version": "1.2.0",
            "_view_count": null,
            "flex_flow": null,
            "width": null,
            "min_width": null,
            "border": null,
            "align_items": null,
            "bottom": null,
            "_model_module": "@jupyter-widgets/base",
            "top": null,
            "grid_column": null,
            "overflow_y": null,
            "overflow_x": null,
            "grid_auto_flow": null,
            "grid_area": null,
            "grid_template_columns": null,
            "flex": null,
            "_model_name": "LayoutModel",
            "justify_items": null,
            "grid_row": null,
            "max_height": null,
            "align_content": null,
            "visibility": null,
            "align_self": null,
            "height": null,
            "min_height": null,
            "padding": null,
            "grid_auto_rows": null,
            "grid_gap": null,
            "max_width": null,
            "order": null,
            "_view_module_version": "1.2.0",
            "grid_template_areas": null,
            "object_position": null,
            "object_fit": null,
            "grid_auto_columns": null,
            "margin": null,
            "display": null,
            "left": null
          }
        },
        "145ea200039c4cbc9220daace56498e8": {
          "model_module": "@jupyter-widgets/controls",
          "model_name": "HTMLModel",
          "model_module_version": "1.5.0",
          "state": {
            "_view_name": "HTMLView",
            "style": "IPY_MODEL_ac82f9617d0343b2ba2251b1152aeb11",
            "_dom_classes": [],
            "description": "",
            "_model_name": "HTMLModel",
            "placeholder": "​",
            "_view_module": "@jupyter-widgets/controls",
            "_model_module_version": "1.5.0",
            "value": "",
            "_view_count": null,
            "_view_module_version": "1.5.0",
            "description_tooltip": null,
            "_model_module": "@jupyter-widgets/controls",
            "layout": "IPY_MODEL_7a9049fe659c4b11b052370e1679739e"
          }
        },
        "9af59726a26b41f6954f45d2e65892aa": {
          "model_module": "@jupyter-widgets/controls",
          "model_name": "FloatProgressModel",
          "model_module_version": "1.5.0",
          "state": {
            "_view_name": "ProgressView",
            "style": "IPY_MODEL_7120a6d2b22143048b590d7b92ed6886",
            "_dom_classes": [],
            "description": "",
            "_model_name": "FloatProgressModel",
            "bar_style": "info",
            "max": 1,
            "_view_module": "@jupyter-widgets/controls",
            "_model_module_version": "1.5.0",
            "value": 1,
            "_view_count": null,
            "_view_module_version": "1.5.0",
            "orientation": "horizontal",
            "min": 0,
            "description_tooltip": null,
            "_model_module": "@jupyter-widgets/controls",
            "layout": "IPY_MODEL_0bad6d348bb2466aa6dd1a6ba73f5ffe"
          }
        },
        "a3fdee4fe8dc47e0942cb00c3e69fb52": {
          "model_module": "@jupyter-widgets/controls",
          "model_name": "HTMLModel",
          "model_module_version": "1.5.0",
          "state": {
            "_view_name": "HTMLView",
            "style": "IPY_MODEL_d1781b28e62a442e812271cde9aae75d",
            "_dom_classes": [],
            "description": "",
            "_model_name": "HTMLModel",
            "placeholder": "​",
            "_view_module": "@jupyter-widgets/controls",
            "_model_module_version": "1.5.0",
            "value": " 4894/0 [00:04&lt;00:00, 899.08 examples/s]",
            "_view_count": null,
            "_view_module_version": "1.5.0",
            "description_tooltip": null,
            "_model_module": "@jupyter-widgets/controls",
            "layout": "IPY_MODEL_4aa2a820eeb94ce6a7c2ceb876c10d1c"
          }
        },
        "ac82f9617d0343b2ba2251b1152aeb11": {
          "model_module": "@jupyter-widgets/controls",
          "model_name": "DescriptionStyleModel",
          "model_module_version": "1.5.0",
          "state": {
            "_view_name": "StyleView",
            "_model_name": "DescriptionStyleModel",
            "description_width": "",
            "_view_module": "@jupyter-widgets/base",
            "_model_module_version": "1.5.0",
            "_view_count": null,
            "_view_module_version": "1.2.0",
            "_model_module": "@jupyter-widgets/controls"
          }
        },
        "7a9049fe659c4b11b052370e1679739e": {
          "model_module": "@jupyter-widgets/base",
          "model_name": "LayoutModel",
          "model_module_version": "1.2.0",
          "state": {
            "_view_name": "LayoutView",
            "grid_template_rows": null,
            "right": null,
            "justify_content": null,
            "_view_module": "@jupyter-widgets/base",
            "overflow": null,
            "_model_module_version": "1.2.0",
            "_view_count": null,
            "flex_flow": null,
            "width": null,
            "min_width": null,
            "border": null,
            "align_items": null,
            "bottom": null,
            "_model_module": "@jupyter-widgets/base",
            "top": null,
            "grid_column": null,
            "overflow_y": null,
            "overflow_x": null,
            "grid_auto_flow": null,
            "grid_area": null,
            "grid_template_columns": null,
            "flex": null,
            "_model_name": "LayoutModel",
            "justify_items": null,
            "grid_row": null,
            "max_height": null,
            "align_content": null,
            "visibility": null,
            "align_self": null,
            "height": null,
            "min_height": null,
            "padding": null,
            "grid_auto_rows": null,
            "grid_gap": null,
            "max_width": null,
            "order": null,
            "_view_module_version": "1.2.0",
            "grid_template_areas": null,
            "object_position": null,
            "object_fit": null,
            "grid_auto_columns": null,
            "margin": null,
            "display": null,
            "left": null
          }
        },
        "7120a6d2b22143048b590d7b92ed6886": {
          "model_module": "@jupyter-widgets/controls",
          "model_name": "ProgressStyleModel",
          "model_module_version": "1.5.0",
          "state": {
            "_view_name": "StyleView",
            "_model_name": "ProgressStyleModel",
            "description_width": "",
            "_view_module": "@jupyter-widgets/base",
            "_model_module_version": "1.5.0",
            "_view_count": null,
            "_view_module_version": "1.2.0",
            "bar_color": null,
            "_model_module": "@jupyter-widgets/controls"
          }
        },
        "0bad6d348bb2466aa6dd1a6ba73f5ffe": {
          "model_module": "@jupyter-widgets/base",
          "model_name": "LayoutModel",
          "model_module_version": "1.2.0",
          "state": {
            "_view_name": "LayoutView",
            "grid_template_rows": null,
            "right": null,
            "justify_content": null,
            "_view_module": "@jupyter-widgets/base",
            "overflow": null,
            "_model_module_version": "1.2.0",
            "_view_count": null,
            "flex_flow": null,
            "width": "20px",
            "min_width": null,
            "border": null,
            "align_items": null,
            "bottom": null,
            "_model_module": "@jupyter-widgets/base",
            "top": null,
            "grid_column": null,
            "overflow_y": null,
            "overflow_x": null,
            "grid_auto_flow": null,
            "grid_area": null,
            "grid_template_columns": null,
            "flex": null,
            "_model_name": "LayoutModel",
            "justify_items": null,
            "grid_row": null,
            "max_height": null,
            "align_content": null,
            "visibility": null,
            "align_self": null,
            "height": null,
            "min_height": null,
            "padding": null,
            "grid_auto_rows": null,
            "grid_gap": null,
            "max_width": null,
            "order": null,
            "_view_module_version": "1.2.0",
            "grid_template_areas": null,
            "object_position": null,
            "object_fit": null,
            "grid_auto_columns": null,
            "margin": null,
            "display": null,
            "left": null
          }
        },
        "d1781b28e62a442e812271cde9aae75d": {
          "model_module": "@jupyter-widgets/controls",
          "model_name": "DescriptionStyleModel",
          "model_module_version": "1.5.0",
          "state": {
            "_view_name": "StyleView",
            "_model_name": "DescriptionStyleModel",
            "description_width": "",
            "_view_module": "@jupyter-widgets/base",
            "_model_module_version": "1.5.0",
            "_view_count": null,
            "_view_module_version": "1.2.0",
            "_model_module": "@jupyter-widgets/controls"
          }
        },
        "4aa2a820eeb94ce6a7c2ceb876c10d1c": {
          "model_module": "@jupyter-widgets/base",
          "model_name": "LayoutModel",
          "model_module_version": "1.2.0",
          "state": {
            "_view_name": "LayoutView",
            "grid_template_rows": null,
            "right": null,
            "justify_content": null,
            "_view_module": "@jupyter-widgets/base",
            "overflow": null,
            "_model_module_version": "1.2.0",
            "_view_count": null,
            "flex_flow": null,
            "width": null,
            "min_width": null,
            "border": null,
            "align_items": null,
            "bottom": null,
            "_model_module": "@jupyter-widgets/base",
            "top": null,
            "grid_column": null,
            "overflow_y": null,
            "overflow_x": null,
            "grid_auto_flow": null,
            "grid_area": null,
            "grid_template_columns": null,
            "flex": null,
            "_model_name": "LayoutModel",
            "justify_items": null,
            "grid_row": null,
            "max_height": null,
            "align_content": null,
            "visibility": null,
            "align_self": null,
            "height": null,
            "min_height": null,
            "padding": null,
            "grid_auto_rows": null,
            "grid_gap": null,
            "max_width": null,
            "order": null,
            "_view_module_version": "1.2.0",
            "grid_template_areas": null,
            "object_position": null,
            "object_fit": null,
            "grid_auto_columns": null,
            "margin": null,
            "display": null,
            "left": null
          }
        },
        "d3e7a026dfab4a3b8a238f35428f1c64": {
          "model_module": "@jupyter-widgets/controls",
          "model_name": "HBoxModel",
          "model_module_version": "1.5.0",
          "state": {
            "_view_name": "HBoxView",
            "_dom_classes": [],
            "_model_name": "HBoxModel",
            "_view_module": "@jupyter-widgets/controls",
            "_model_module_version": "1.5.0",
            "_view_count": null,
            "_view_module_version": "1.5.0",
            "box_style": "",
            "layout": "IPY_MODEL_bab409ee00ce43658241421b73d78381",
            "_model_module": "@jupyter-widgets/controls",
            "children": [
              "IPY_MODEL_c39b3c98b7d048929cff8c10cd6ae75f",
              "IPY_MODEL_d84649d80f594f0293325b14683dd93e",
              "IPY_MODEL_965a8dd7837c4bacb8c117847c012f38"
            ]
          }
        },
        "bab409ee00ce43658241421b73d78381": {
          "model_module": "@jupyter-widgets/base",
          "model_name": "LayoutModel",
          "model_module_version": "1.2.0",
          "state": {
            "_view_name": "LayoutView",
            "grid_template_rows": null,
            "right": null,
            "justify_content": null,
            "_view_module": "@jupyter-widgets/base",
            "overflow": null,
            "_model_module_version": "1.2.0",
            "_view_count": null,
            "flex_flow": null,
            "width": null,
            "min_width": null,
            "border": null,
            "align_items": null,
            "bottom": null,
            "_model_module": "@jupyter-widgets/base",
            "top": null,
            "grid_column": null,
            "overflow_y": null,
            "overflow_x": null,
            "grid_auto_flow": null,
            "grid_area": null,
            "grid_template_columns": null,
            "flex": null,
            "_model_name": "LayoutModel",
            "justify_items": null,
            "grid_row": null,
            "max_height": null,
            "align_content": null,
            "visibility": null,
            "align_self": null,
            "height": null,
            "min_height": null,
            "padding": null,
            "grid_auto_rows": null,
            "grid_gap": null,
            "max_width": null,
            "order": null,
            "_view_module_version": "1.2.0",
            "grid_template_areas": null,
            "object_position": null,
            "object_fit": null,
            "grid_auto_columns": null,
            "margin": null,
            "display": null,
            "left": null
          }
        },
        "c39b3c98b7d048929cff8c10cd6ae75f": {
          "model_module": "@jupyter-widgets/controls",
          "model_name": "HTMLModel",
          "model_module_version": "1.5.0",
          "state": {
            "_view_name": "HTMLView",
            "style": "IPY_MODEL_d4d9311655c740a2ac30a9b57d8f8860",
            "_dom_classes": [],
            "description": "",
            "_model_name": "HTMLModel",
            "placeholder": "​",
            "_view_module": "@jupyter-widgets/controls",
            "_model_module_version": "1.5.0",
            "value": "100%",
            "_view_count": null,
            "_view_module_version": "1.5.0",
            "description_tooltip": null,
            "_model_module": "@jupyter-widgets/controls",
            "layout": "IPY_MODEL_994e38eb3ebe4acdbdbb13f4ce87e88e"
          }
        },
        "d84649d80f594f0293325b14683dd93e": {
          "model_module": "@jupyter-widgets/controls",
          "model_name": "FloatProgressModel",
          "model_module_version": "1.5.0",
          "state": {
            "_view_name": "ProgressView",
            "style": "IPY_MODEL_cd9c4130be804af293d23aa103022250",
            "_dom_classes": [],
            "description": "",
            "_model_name": "FloatProgressModel",
            "bar_style": "danger",
            "max": 4898,
            "_view_module": "@jupyter-widgets/controls",
            "_model_module_version": "1.5.0",
            "value": 4897,
            "_view_count": null,
            "_view_module_version": "1.5.0",
            "orientation": "horizontal",
            "min": 0,
            "description_tooltip": null,
            "_model_module": "@jupyter-widgets/controls",
            "layout": "IPY_MODEL_52a9348c435f4311880c8ca0e8661a00"
          }
        },
        "965a8dd7837c4bacb8c117847c012f38": {
          "model_module": "@jupyter-widgets/controls",
          "model_name": "HTMLModel",
          "model_module_version": "1.5.0",
          "state": {
            "_view_name": "HTMLView",
            "style": "IPY_MODEL_e96618309ef845debad24421ac8b0b5d",
            "_dom_classes": [],
            "description": "",
            "_model_name": "HTMLModel",
            "placeholder": "​",
            "_view_module": "@jupyter-widgets/controls",
            "_model_module_version": "1.5.0",
            "value": " 4897/4898 [00:00&lt;00:00, 63125.26 examples/s]",
            "_view_count": null,
            "_view_module_version": "1.5.0",
            "description_tooltip": null,
            "_model_module": "@jupyter-widgets/controls",
            "layout": "IPY_MODEL_674670e3c59e4bd2aed1bf53c0e2501e"
          }
        },
        "d4d9311655c740a2ac30a9b57d8f8860": {
          "model_module": "@jupyter-widgets/controls",
          "model_name": "DescriptionStyleModel",
          "model_module_version": "1.5.0",
          "state": {
            "_view_name": "StyleView",
            "_model_name": "DescriptionStyleModel",
            "description_width": "",
            "_view_module": "@jupyter-widgets/base",
            "_model_module_version": "1.5.0",
            "_view_count": null,
            "_view_module_version": "1.2.0",
            "_model_module": "@jupyter-widgets/controls"
          }
        },
        "994e38eb3ebe4acdbdbb13f4ce87e88e": {
          "model_module": "@jupyter-widgets/base",
          "model_name": "LayoutModel",
          "model_module_version": "1.2.0",
          "state": {
            "_view_name": "LayoutView",
            "grid_template_rows": null,
            "right": null,
            "justify_content": null,
            "_view_module": "@jupyter-widgets/base",
            "overflow": null,
            "_model_module_version": "1.2.0",
            "_view_count": null,
            "flex_flow": null,
            "width": null,
            "min_width": null,
            "border": null,
            "align_items": null,
            "bottom": null,
            "_model_module": "@jupyter-widgets/base",
            "top": null,
            "grid_column": null,
            "overflow_y": null,
            "overflow_x": null,
            "grid_auto_flow": null,
            "grid_area": null,
            "grid_template_columns": null,
            "flex": null,
            "_model_name": "LayoutModel",
            "justify_items": null,
            "grid_row": null,
            "max_height": null,
            "align_content": null,
            "visibility": null,
            "align_self": null,
            "height": null,
            "min_height": null,
            "padding": null,
            "grid_auto_rows": null,
            "grid_gap": null,
            "max_width": null,
            "order": null,
            "_view_module_version": "1.2.0",
            "grid_template_areas": null,
            "object_position": null,
            "object_fit": null,
            "grid_auto_columns": null,
            "margin": null,
            "display": null,
            "left": null
          }
        },
        "cd9c4130be804af293d23aa103022250": {
          "model_module": "@jupyter-widgets/controls",
          "model_name": "ProgressStyleModel",
          "model_module_version": "1.5.0",
          "state": {
            "_view_name": "StyleView",
            "_model_name": "ProgressStyleModel",
            "description_width": "",
            "_view_module": "@jupyter-widgets/base",
            "_model_module_version": "1.5.0",
            "_view_count": null,
            "_view_module_version": "1.2.0",
            "bar_color": null,
            "_model_module": "@jupyter-widgets/controls"
          }
        },
        "52a9348c435f4311880c8ca0e8661a00": {
          "model_module": "@jupyter-widgets/base",
          "model_name": "LayoutModel",
          "model_module_version": "1.2.0",
          "state": {
            "_view_name": "LayoutView",
            "grid_template_rows": null,
            "right": null,
            "justify_content": null,
            "_view_module": "@jupyter-widgets/base",
            "overflow": null,
            "_model_module_version": "1.2.0",
            "_view_count": null,
            "flex_flow": null,
            "width": null,
            "min_width": null,
            "border": null,
            "align_items": null,
            "bottom": null,
            "_model_module": "@jupyter-widgets/base",
            "top": null,
            "grid_column": null,
            "overflow_y": null,
            "overflow_x": null,
            "grid_auto_flow": null,
            "grid_area": null,
            "grid_template_columns": null,
            "flex": null,
            "_model_name": "LayoutModel",
            "justify_items": null,
            "grid_row": null,
            "max_height": null,
            "align_content": null,
            "visibility": null,
            "align_self": null,
            "height": null,
            "min_height": null,
            "padding": null,
            "grid_auto_rows": null,
            "grid_gap": null,
            "max_width": null,
            "order": null,
            "_view_module_version": "1.2.0",
            "grid_template_areas": null,
            "object_position": null,
            "object_fit": null,
            "grid_auto_columns": null,
            "margin": null,
            "display": null,
            "left": null
          }
        },
        "e96618309ef845debad24421ac8b0b5d": {
          "model_module": "@jupyter-widgets/controls",
          "model_name": "DescriptionStyleModel",
          "model_module_version": "1.5.0",
          "state": {
            "_view_name": "StyleView",
            "_model_name": "DescriptionStyleModel",
            "description_width": "",
            "_view_module": "@jupyter-widgets/base",
            "_model_module_version": "1.5.0",
            "_view_count": null,
            "_view_module_version": "1.2.0",
            "_model_module": "@jupyter-widgets/controls"
          }
        },
        "674670e3c59e4bd2aed1bf53c0e2501e": {
          "model_module": "@jupyter-widgets/base",
          "model_name": "LayoutModel",
          "model_module_version": "1.2.0",
          "state": {
            "_view_name": "LayoutView",
            "grid_template_rows": null,
            "right": null,
            "justify_content": null,
            "_view_module": "@jupyter-widgets/base",
            "overflow": null,
            "_model_module_version": "1.2.0",
            "_view_count": null,
            "flex_flow": null,
            "width": null,
            "min_width": null,
            "border": null,
            "align_items": null,
            "bottom": null,
            "_model_module": "@jupyter-widgets/base",
            "top": null,
            "grid_column": null,
            "overflow_y": null,
            "overflow_x": null,
            "grid_auto_flow": null,
            "grid_area": null,
            "grid_template_columns": null,
            "flex": null,
            "_model_name": "LayoutModel",
            "justify_items": null,
            "grid_row": null,
            "max_height": null,
            "align_content": null,
            "visibility": null,
            "align_self": null,
            "height": null,
            "min_height": null,
            "padding": null,
            "grid_auto_rows": null,
            "grid_gap": null,
            "max_width": null,
            "order": null,
            "_view_module_version": "1.2.0",
            "grid_template_areas": null,
            "object_position": null,
            "object_fit": null,
            "grid_auto_columns": null,
            "margin": null,
            "display": null,
            "left": null
          }
        }
      }
    }
  },
  "cells": [
    {
      "cell_type": "markdown",
      "metadata": {
        "id": "w6zvemnxlA_n"
      },
      "source": [
        "# Bayes for NNs\n",
        "\n",
        "\"Bayesian\" means, rather than being some true but unknown value, a parameter\n",
        "\n",
        "- is viewed as a random variable object \n",
        "- so it has a probability distribution \n",
        "- which can be combined with data which is informative about the parameter through a likelihood\n",
        "- to update our knowledge about the distribution of the parameter (from the prior to the posterior) using Bayes theorem\n",
        "\n",
        "\n",
        "If we approximate the posterior distribution using some other family of distributions with Variational inference, then we are performing approximate Bayesian inference.\n"
      ]
    },
    {
      "cell_type": "markdown",
      "metadata": {
        "id": "MgxeKIFllKlk"
      },
      "source": [
        "## The reparameterization trick\n",
        "\n",
        "- Section 2.4 of [Auto-Encoding Variational Bayes](https://arxiv.org/abs/1312.6114) (Kingma/Welling 2013).\n",
        "\n",
        "This paper is concerned with embedding an observation $x$ into an unknown latent space Z, and takes a Bayesian view of the embedded object $z$; so, z is a \"parameter\" which can be given a (*a priori*) distribuition, and the target of interest is the updated information about $p(z|x)$.\n",
        "\n",
        "> Notice, then, that there are a lot of posterior distribiutions $p(z_i|x_i)$, one for every observation $x_i$.\n",
        "\n",
        "Kingma/Welling propose variational inference to approximate the posterior\n",
        "\n",
        "\\begin{align*}\n",
        "\\overset{prior}{p(z)} \\times \\overset{likelihood}{f_{\\underset{decoder}{\\theta(z)}}(x|z)} \\propto {} &  \\overset{posterior}{p(z|x)} \\\\\n",
        " \\approx  {} &  \\overset{variational}{\\overset{distribution}{q_{\\underset{encoder}{\\theta(x)}}(z|x)}}\n",
        "\\end{align*}\n",
        "\n",
        "leading to the variational inference optimization objective\n",
        "\n",
        "$$\\underset{\\theta_{dec}, \\theta_{enc}}{\\max} E_{q_{\\theta_{enc}}(z|x)}[\\log f_{\\theta_{dec}}(x|z)]  - \\underbrace{ KL[\\, q_{\\theta_{enc}}(x|z) \\, || \\, p(z) \\,]}_{E_{q_{\\theta_{enc}}(z|x)}\\left[\\log  \\frac{q_{\\theta_{enc}}(z|x)}{p(z)}\\right] \\;\\geq\\; 0}  $$\n",
        "\n",
        "Pursuing this objective with gradient descent is thus based on a derivative of an integral, and computing this derivative may require interchanging the order of integration and derivative\n",
        "\n",
        "$$\\frac{d}{d\\theta} \\int \\cdots q_{\\theta_{enc}}(z|x) d z \\overset{?}{=}  \\int \\frac{d}{d\\theta} \\cdots q_{\\theta_{enc}}(z|x) d z$$\n",
        "\n",
        "and the reparameterization trick allows this interchange if a change of variables transformation from independent random variables $\\epsilon$, e.g., $z = \\mu_x + \\sigma_x \\epsilon$, is available\n",
        "\n",
        "$$\\text{so } \\quad z = g_x(\\epsilon) \\quad \\text{ and } \\quad q_{\\theta_{enc}}(z|x) = p(\\epsilon = g_x^{-1}(z) ) \\frac{d g_x^{-1}(z)}{d z}$$\n",
        "\n",
        "so that\n",
        "\n",
        "$$\\frac{d}{d\\theta} \\int \\cdots q_{\\theta_{enc}}(z|x) d z = \\frac{d}{d\\theta} \\int \\cdots p(\\epsilon) d \\epsilon =  \\int \\frac{d}{d\\theta} \\cdots p(\\epsilon) d \\epsilon$$\n",
        "\n",
        "\n",
        "\n",
        "\n",
        "\n"
      ]
    },
    {
      "cell_type": "markdown",
      "metadata": {
        "id": "9dxYCG1vBBZ8"
      },
      "source": [
        "Comments:\n",
        "\n",
        "* The KL-divergence in the objective is supposed to be $KL[q_{\\theta_{enc}}(z|x) || p(z)]$, as noted in the underbrace.\n",
        "\n",
        "* Why does the objective use divergence of $q$ with the prior $p(z)$? Are we approximating the posterior using encoder $q$?\n",
        "\n",
        "**Update**:\n",
        "\n",
        "A posterior is a balance of the likelihood with the prior. q approximates the posterior by balancing 1. expected log likelihood $E_q(f(x|z))$ 2. the KL-divergence between q and **the prior** $p(z)$\n",
        "\n"
      ]
    },
    {
      "cell_type": "markdown",
      "metadata": {
        "id": "5oDOQB9OWLCe"
      },
      "source": [
        "## Bayes by Backprop (BBB)\n",
        "- Section 3.1 of [Weight Uncertainty in Neural Networks](https://arxiv.org/abs/1505.05424) (Blundell et al. 2015).\n",
        "\n",
        "This paper is concerned with taking a Bayesian view of the weights and biases of a neural network archetucture; so, $w$ and $b$ are \"parameters\" which can be given (*a priori*) distribuitions, and the target of interest is the updated information about $p(w,b|\\mathcal{D})$, where $\\mathcal{D}$ is the data used to train a neural network.\n",
        "\n",
        "> Notice that the posterior distribution has many margins $p(w^{(h)}_{jk}|\\mathcal{D})$ and $p(b^{(h)}_k|\\mathcal{D})$ since there may be many hidden layers $l$ in a neural network, each with weights $w^{(h)}_{jk}$ connecting a node $j$ from a previous layer with a node $k$ in the current layer, and a bias term $b^{(h)}_k$ for each node $k$ in the current layer; and, there may be complex dependency structure within the $w_i$ and $b_i$ random variables in their true joint posterior distribution. \n",
        "\n",
        "Blundell et al. examine the (non linear) regression problem parameterized by $\\phi \\equiv (w,b)$\n",
        "\n",
        "\\begin{align*}\n",
        "\\overset{neural\\ network}{\\underset{likelihood}{f_{\\phi}(y|x)} \\; \\times}  \\underset{prior}{p(\\phi|x)} \n",
        "\\propto {} & \\underset{posterior}{p(\\phi|x,y)} \\\\\n",
        "\\approx {} & \\overset{variational}{\\overset{distribution}{q_\\theta(\\phi|x,y)}}\n",
        "\\end{align*}\n",
        "\n",
        "leading to the variational inference optimization objective\n",
        "\n",
        "$$\\underset{\\theta}{\\max} E_{q_\\theta(\\phi|x,y)}[\\log f_{\\phi}(y|x)]  - \\underbrace{ KL[\\, q_\\theta(\\phi|x,y) \\, || \\, p(\\phi|x) \\,]}_{E_{q_\\theta(\\phi|x,y)}\\left[\\log  \\frac{q_\\theta(\\phi|x,y)}{p(\\phi|x)}\\right] \\;\\geq\\; 0}  $$\n",
        "\n",
        "and again use the reparameterization trick (of a change of variables transformation of independent random variables) to define\n",
        "\n",
        "$$\\phi = g_\\theta(\\epsilon)$$\n",
        "\n",
        "but generalize gradient calculation step using the [total derivative](https://math.stackexchange.com/questions/174270/what-exactly-is-the-difference-between-a-derivative-and-a-total-derivative) (since $\\phi$ depends on $\\theta$) to propose the (so-called) Bayes by Backprop (BBB) so\n",
        "\n",
        "\\begin{align*}\n",
        "\\frac{\\partial}{\\partial \\theta}E_{q_\\theta(\\phi|x)}\\left[h(\\phi, \\theta,y,x)\\right] = {} & E_{p(\\epsilon)}\\left[\\frac{\\partial h(\\phi, \\theta,y,x)}{\\partial \\phi}\\frac{{\\partial \\phi}}{\\partial \\theta} + \\frac{{\\partial  h(\\phi, \\theta,y,x)}}{\\partial \\theta} \\frac{\\partial \\theta}{\\partial \\theta}\\right]\\\\\n",
        "= {} & E_{p(\\epsilon)}\\left[\\frac{\\partial h(\\phi, \\theta,y,x)}{\\partial \\phi}\\frac{{\\partial \\phi}}{\\partial \\theta} + \\frac{{\\partial h(\\phi, \\theta,y,x)}}{\\partial \\theta}  \\right]\n",
        "\\end{align*}\n",
        "\n",
        "\n"
      ]
    },
    {
      "cell_type": "markdown",
      "metadata": {
        "id": "02E0PQT-JRLQ"
      },
      "source": [
        "Comments:\n",
        "\n",
        "* How is the $\\theta$ in $q_{\\theta}$ same as the $\\theta$ in the change of variable $g_{\\theta}$? How are they related? "
      ]
    },
    {
      "cell_type": "code",
      "metadata": {
        "id": "hE9vA6XKKL7L"
      },
      "source": [
        "import numpy as np\n",
        "import tensorflow as tf\n",
        "from tensorflow.keras import layers\n",
        "import tensorflow_probability as tfp\n",
        "import tensorflow_datasets as tfds\n",
        "import matplotlib.pyplot as plt"
      ],
      "execution_count": 1,
      "outputs": []
    },
    {
      "cell_type": "code",
      "metadata": {
        "id": "_CBE4rgSk8vQ",
        "colab": {
          "base_uri": "https://localhost:8080/",
          "height": 220,
          "referenced_widgets": [
            "732db48bd64049769d747bcf22e5a411",
            "9a4cc92556384bb8a7fd8afec3c8ce13",
            "118021871eb2485b82854cccd4d20e0e",
            "e6b76dd11da64f89a3e15b7d5539f460",
            "573238abbf1f45539aa804b5b3c04ea0",
            "909ef06b3aab4949914757079ac01de5",
            "f797f1b634974b5397a9382be2804bc8",
            "f0b5bb977d7644079728440ce2b9a390",
            "0293302491ac4774a2acb17fbcaf2714",
            "f692355dc0da437486da75faf79f8316",
            "021167e828b74dc2ac093d9f9a7e966c",
            "d8149908084e440ca916e8d04ad318fd",
            "1ea7fbc78ea3473596f0ce9a1054587d",
            "899edc46882247eeb6bc2e5a481e2d9c",
            "b391d9808e164767aeba389512486d20",
            "5b6d5f4f26a545b38243e1dc0f7d6f5d",
            "b8a155b23f804b56a5d676ede111f785",
            "ad709d1c29524b3b89c6b06cbe34ce53",
            "e6371d4fd4384666a7bb3d424c4a1330",
            "e596fc6d75c44513a474e415272a7960",
            "a626b465463c4c1db7264da3ff1275c7",
            "751a35b0d80744e291e162d737df772d",
            "ac0844ffe9dc48088605235a2c103d09",
            "dba7cf8a50af44c798196b26a5adc7b3",
            "145ea200039c4cbc9220daace56498e8",
            "9af59726a26b41f6954f45d2e65892aa",
            "a3fdee4fe8dc47e0942cb00c3e69fb52",
            "ac82f9617d0343b2ba2251b1152aeb11",
            "7a9049fe659c4b11b052370e1679739e",
            "7120a6d2b22143048b590d7b92ed6886",
            "0bad6d348bb2466aa6dd1a6ba73f5ffe",
            "d1781b28e62a442e812271cde9aae75d",
            "4aa2a820eeb94ce6a7c2ceb876c10d1c",
            "d3e7a026dfab4a3b8a238f35428f1c64",
            "bab409ee00ce43658241421b73d78381",
            "c39b3c98b7d048929cff8c10cd6ae75f",
            "d84649d80f594f0293325b14683dd93e",
            "965a8dd7837c4bacb8c117847c012f38",
            "d4d9311655c740a2ac30a9b57d8f8860",
            "994e38eb3ebe4acdbdbb13f4ce87e88e",
            "cd9c4130be804af293d23aa103022250",
            "52a9348c435f4311880c8ca0e8661a00",
            "e96618309ef845debad24421ac8b0b5d",
            "674670e3c59e4bd2aed1bf53c0e2501e"
          ]
        },
        "outputId": "4f314530-99c9-4f43-e116-949711ac10a9"
      },
      "source": [
        "# Set up Bayesian Linear regression using BBB with tensorflow \n",
        "# Perhaps this will help?\n",
        "# https://keras.io/examples/keras_recipes/bayesian_neural_networks/\n",
        "\n",
        "\n",
        "# load data \n",
        "total_size = 4898\n",
        "train_size = int(total_size * 0.85)\n",
        "batch_size = 256\n",
        "dataset = tfds.load(name=\"wine_quality\", as_supervised=True, split=\"train\")\n",
        "train_set = dataset.take(train_size).shuffle(buffer_size=train_size).batch(batch_size)\n",
        "test_set = dataset.skip(train_size).batch(batch_size)"
      ],
      "execution_count": 20,
      "outputs": [
        {
          "output_type": "stream",
          "name": "stdout",
          "text": [
            "\u001b[1mDownloading and preparing dataset wine_quality/white/1.0.0 (download: 258.23 KiB, generated: 1.87 MiB, total: 2.13 MiB) to /root/tensorflow_datasets/wine_quality/white/1.0.0...\u001b[0m\n"
          ]
        },
        {
          "output_type": "display_data",
          "data": {
            "application/vnd.jupyter.widget-view+json": {
              "model_id": "732db48bd64049769d747bcf22e5a411",
              "version_minor": 0,
              "version_major": 2
            },
            "text/plain": [
              "Dl Completed...: 0 url [00:00, ? url/s]"
            ]
          },
          "metadata": {}
        },
        {
          "output_type": "display_data",
          "data": {
            "application/vnd.jupyter.widget-view+json": {
              "model_id": "d8149908084e440ca916e8d04ad318fd",
              "version_minor": 0,
              "version_major": 2
            },
            "text/plain": [
              "Dl Size...: 0 MiB [00:00, ? MiB/s]"
            ]
          },
          "metadata": {}
        },
        {
          "output_type": "stream",
          "name": "stdout",
          "text": [
            "\n",
            "\n"
          ]
        },
        {
          "output_type": "display_data",
          "data": {
            "application/vnd.jupyter.widget-view+json": {
              "model_id": "ac0844ffe9dc48088605235a2c103d09",
              "version_minor": 0,
              "version_major": 2
            },
            "text/plain": [
              "0 examples [00:00, ? examples/s]"
            ]
          },
          "metadata": {}
        },
        {
          "output_type": "stream",
          "name": "stdout",
          "text": [
            "Shuffling and writing examples to /root/tensorflow_datasets/wine_quality/white/1.0.0.incomplete0GXAQ9/wine_quality-train.tfrecord\n"
          ]
        },
        {
          "output_type": "display_data",
          "data": {
            "application/vnd.jupyter.widget-view+json": {
              "model_id": "d3e7a026dfab4a3b8a238f35428f1c64",
              "version_minor": 0,
              "version_major": 2
            },
            "text/plain": [
              "  0%|          | 0/4898 [00:00<?, ? examples/s]"
            ]
          },
          "metadata": {}
        },
        {
          "output_type": "stream",
          "name": "stdout",
          "text": [
            "\u001b[1mDataset wine_quality downloaded and prepared to /root/tensorflow_datasets/wine_quality/white/1.0.0. Subsequent calls will reuse this data.\u001b[0m\n"
          ]
        }
      ]
    },
    {
      "cell_type": "code",
      "metadata": {
        "id": "JRWfm7rrUFEa"
      },
      "source": [
        "feature_names = [\"fixed acidity\", \"volatile acidity\", \"citric acid\", \n",
        "                \"residual sugar\", \"chlorides\", \"free sulfur dioxide\",\n",
        "                \"total sulfur dioxide\", \"density\", \"pH\", \"sulphates\", \"alcohol\"]\n",
        "\n",
        "# Model 1: standard neural network\n",
        "\n",
        "inputs = [layers.Input(name=f_name, shape=(1,)) for f_name in feature_names]\n",
        "features = layers.concatenate(inputs)\n",
        "features = layers.BatchNormalization()(features)\n",
        "\n",
        "features = layers.Dense(8, activation=\"sigmoid\")(features)\n",
        "features = layers.Dense(8, activation=\"sigmoid\")(features)\n",
        "outputs = layers.Dense(1)(features)\n",
        "\n",
        "nn_model = tf.keras.Model(inputs=inputs, outputs=outputs)"
      ],
      "execution_count": 21,
      "outputs": []
    },
    {
      "cell_type": "code",
      "metadata": {
        "colab": {
          "base_uri": "https://localhost:8080/"
        },
        "id": "bP9QHj3nXBhX",
        "outputId": "7ac769f8-b46d-4c79-85fa-87f26cb46417"
      },
      "source": [
        "# Model 1 training\n",
        "\n",
        "lr = 0.001\n",
        "num_epochs = 100\n",
        "mse_loss = tf.keras.losses.MeanSquaredError()\n",
        "nn_model.compile(optimizer=tf.keras.optimizers.RMSprop(learning_rate=lr),\n",
        "                 loss=mse_loss, metrics=[tf.keras.metrics.RootMeanSquaredError()])\n",
        "\n",
        "nn_model.fit(train_set, epochs=num_epochs, validation_data=test_set, verbose=False)\n",
        "\n",
        "# Model 1 Evaluation\n",
        "\n",
        "def evaluate_model(model):\n",
        "  train_loss, train_rmse = model.evaluate(train_set)\n",
        "  print(f'Training loss: {train_loss:.4}, Training RMSE: {train_rmse:.4}')\n",
        "  test_loss, test_rmse = model.evaluate(test_set)\n",
        "  print(f'Test loss: {test_loss:.4}, Test RMSE: {test_rmse:.4}')  \n",
        "\n",
        "evaluate_model(nn_model)"
      ],
      "execution_count": null,
      "outputs": [
        {
          "output_type": "stream",
          "name": "stdout",
          "text": [
            "17/17 [==============================] - 0s 4ms/step - loss: 0.5738 - root_mean_squared_error: 0.7575\n",
            "Training loss: 0.5738, Training RMSE: 0.7575\n",
            "3/3 [==============================] - 0s 5ms/step - loss: 0.5697 - root_mean_squared_error: 0.7548\n",
            "Test loss: 0.5697, Test RMSE: 0.7548\n"
          ]
        }
      ]
    },
    {
      "cell_type": "code",
      "metadata": {
        "id": "VFOw3jjkcFPJ"
      },
      "source": [
        "# Model 2: Bayesian neural network (using DenseVariational layer)\n",
        "# learn weight distributions\n",
        "# Note that it is the same model for capturing the epistemic uncertainty \n",
        "# in the MADE report.\n",
        "\n",
        "# Define prior of weights\n",
        "\n",
        "def prior(kernel_size, bias_size, dtype=None):\n",
        "  n = kernel_size + bias_size\n",
        "  prior_model = tf.keras.Sequential(\n",
        "      [tfp.layers.DistributionLambda(lambda t: tfp.distributions.MultivariateNormalDiag(\n",
        "          loc=tf.zeros(n), scale_diag=tf.ones(n)\n",
        "      ))]\n",
        "      )\n",
        "  return prior_model\n",
        "\n",
        "# define posterior of weights (trainable)\n",
        "def posterior(kernel_size, bias_size, dtype=None):\n",
        "  n = kernel_size + bias_size\n",
        "  posterior_model = tf.keras.Sequential(\n",
        "      [tfp.layers.VariableLayer(tfp.layers.MultivariateNormalTriL.params_size(n), dtype=dtype),\n",
        "                          # create trainable parameters for MVN with size n\n",
        "       tfp.layers.MultivariateNormalTriL(n),]\n",
        "  )\n",
        "  return posterior_model\n",
        "\n",
        "\n",
        "# Model 2 BNN \n",
        "inputs = [layers.Input(name=f_name, shape=(1,)) for f_name in feature_names]\n",
        "features = layers.concatenate(inputs)\n",
        "features = layers.BatchNormalization()(features)\n",
        "\n",
        "for h in [8, 8]: # hidden units\n",
        "  features = tfp.layers.DenseVariational(\n",
        "      units=h, make_prior_fn=prior, make_posterior_fn=posterior,\n",
        "      kl_weight=1 / train_size, activation=\"sigmoid\"\n",
        "  )(features)\n",
        "\n",
        "outputs = layers.Dense(units=1)(features)\n",
        "bnn_model = tf.keras.Model(inputs=inputs, outputs=outputs)\n"
      ],
      "execution_count": 22,
      "outputs": []
    },
    {
      "cell_type": "code",
      "metadata": {
        "colab": {
          "base_uri": "https://localhost:8080/"
        },
        "id": "KWCnrA6UEbkQ",
        "outputId": "2a5f03e6-2368-488e-c426-2d7094b077ef"
      },
      "source": [
        "# Model 2 training\n",
        "bnn_model.compile(optimizer=tf.keras.optimizers.RMSprop(learning_rate=lr),\n",
        "                 loss=mse_loss, metrics=[tf.keras.metrics.RootMeanSquaredError()])\n",
        "\n",
        "bnn_model.fit(train_set, epochs=num_epochs, validation_data=test_set, verbose=False)\n",
        "\n",
        "# Model 2 Evaluation\n",
        "evaluate_model(bnn_model)"
      ],
      "execution_count": null,
      "outputs": [
        {
          "output_type": "stream",
          "name": "stdout",
          "text": [
            "17/17 [==============================] - 0s 4ms/step - loss: 0.6599 - root_mean_squared_error: 0.8058\n",
            "Training loss: 0.6599, Training RMSE: 0.8058\n",
            "3/3 [==============================] - 0s 6ms/step - loss: 0.6712 - root_mean_squared_error: 0.8131\n",
            "Test loss: 0.6712, Test RMSE: 0.8131\n"
          ]
        }
      ]
    },
    {
      "cell_type": "code",
      "metadata": {
        "colab": {
          "base_uri": "https://localhost:8080/"
        },
        "id": "zPBBh9MDxbP0",
        "outputId": "8eb23dae-800b-4139-ae98-765f1aa0f447"
      },
      "source": [
        "# will produce a different output each time for evaluation\n",
        "evaluate_model(bnn_model)"
      ],
      "execution_count": null,
      "outputs": [
        {
          "output_type": "stream",
          "name": "stdout",
          "text": [
            "17/17 [==============================] - 0s 4ms/step - loss: 0.6748 - root_mean_squared_error: 0.8152\n",
            "Training loss: 0.6748, Training RMSE: 0.8152\n",
            "3/3 [==============================] - 0s 6ms/step - loss: 0.6570 - root_mean_squared_error: 0.8040\n",
            "Test loss: 0.657, Test RMSE: 0.804\n"
          ]
        }
      ]
    },
    {
      "cell_type": "code",
      "metadata": {
        "id": "OPHx5IMVxvJR"
      },
      "source": [
        "# Model 3: Probablistic Bayesian neural network\n",
        "# the only difference from BNN is to output a probabilistic distribution\n",
        "\n",
        "inputs = [layers.Input(name=f_name, shape=(1,)) for f_name in feature_names]\n",
        "features = layers.concatenate(inputs)\n",
        "features = layers.BatchNormalization()(features)\n",
        "\n",
        "for h in [8, 8]: # hidden units\n",
        "  features = tfp.layers.DenseVariational(\n",
        "      units=h, make_prior_fn=prior, make_posterior_fn=posterior,\n",
        "      kl_weight=1 / train_size, activation=\"sigmoid\"\n",
        "  )(features)\n",
        "\n",
        "# output a distribution \n",
        "d_params = layers.Dense(2)(features) # use Dense to learn mean/var\n",
        "outputs = tfp.layers.IndependentNormal(1)(d_params)\n",
        "\n",
        "pbnn_model = tf.keras.Model(inputs=inputs, outputs=outputs)"
      ],
      "execution_count": null,
      "outputs": []
    },
    {
      "cell_type": "code",
      "metadata": {
        "colab": {
          "base_uri": "https://localhost:8080/"
        },
        "id": "tT8EYtYM1UqN",
        "outputId": "93c72a3b-c330-4f0f-ac86-360c0192c857"
      },
      "source": [
        "# Model 3 training \n",
        "\n",
        "# use negative log-lik as loss function\n",
        "def neg_loglike(targets, pred_distribution):\n",
        "  targets = tf.cast(targets, tf.float32) # convert to the same dtype\n",
        "  return -pred_distribution.log_prob(targets)\n",
        "\n",
        "pbnn_model.compile(optimizer=tf.keras.optimizers.RMSprop(learning_rate=lr),\n",
        "                 loss=neg_loglike, metrics=[tf.keras.metrics.RootMeanSquaredError()])\n",
        "\n",
        "pbnn_model.fit(train_set, epochs=num_epochs, validation_data=test_set, verbose=False)\n",
        "\n",
        "# Model 3 Evaluation\n",
        "evaluate_model(pbnn_model)"
      ],
      "execution_count": null,
      "outputs": [
        {
          "output_type": "stream",
          "name": "stdout",
          "text": [
            "17/17 [==============================] - 0s 5ms/step - loss: 1.2339 - root_mean_squared_error: 1.1684\n",
            "Training loss: 1.234, Training RMSE: 1.168\n",
            "3/3 [==============================] - 0s 6ms/step - loss: 1.2178 - root_mean_squared_error: 1.1268\n",
            "Test loss: 1.218, Test RMSE: 1.127\n"
          ]
        }
      ]
    },
    {
      "cell_type": "code",
      "metadata": {
        "colab": {
          "base_uri": "https://localhost:8080/",
          "height": 265
        },
        "id": "A-J4VbV_3x1N",
        "outputId": "e7bd05cb-4c68-4f5c-859c-7234758cb6a4"
      },
      "source": [
        "# Visualize the predicted distribution on a few examples (non-ordered)\n",
        "\n",
        "n = 10\n",
        "samples, y = list(test_set.unbatch().shuffle(n).batch(n))[0]\n",
        "\n",
        "pred_distribution = pbnn_model(samples)\n",
        "pred_m = pred_distribution.mean().numpy()\n",
        "pred_std = pred_distribution.stddev().numpy()\n",
        "\n",
        "# 95% prediction interval \n",
        "upper = pred_m + 1.96 * pred_std\n",
        "lower = pred_m - 1.96 * pred_std\n",
        "\n",
        "plt.plot(y, \"r.\", label=\"true targets\")\n",
        "plt.plot(pred_m, \"b.\", label=\"Predicted mean\")\n",
        "plt.plot(upper, \"g.\", label=\"Predicted interval\")\n",
        "plt.plot(lower, \"g.\")\n",
        "plt.legend()\n",
        "plt.show()"
      ],
      "execution_count": null,
      "outputs": [
        {
          "output_type": "display_data",
          "data": {
            "image/png": "[encoded data removed]",
            "text/plain": [
              "<Figure size 432x288 with 1 Axes>"
            ]
          },
          "metadata": {
            "needs_background": "light"
          }
        }
      ]
    },
    {
      "cell_type": "markdown",
      "metadata": {
        "id": "one4X7QV8BVt"
      },
      "source": [
        "* We can see the probabilistic BNN model can capture the epistemic uncertainty well\n",
        "* Most of the true labels are contained in the predicted intervals"
      ]
    },
    {
      "cell_type": "markdown",
      "metadata": {
        "id": "lfBMIG_6XC9_"
      },
      "source": [
        "## (MC-)Dropout can provide Bayesian approximation\n",
        "- Kingma, Salimans, and Welling (2015) -- in Sections 3.1-3.3 of [Variational Dropout and the Local Reparameterization Trick](https://arxiv.org/abs/1506.02557) -- propose Bayesian approximation via variational inference of a gaussian dropout neural network. \n",
        "  - Gausian Dropout: $\\tilde w^{(h)}_{jk} = w^{(h)}_{jk}\\times \\theta^{(h)}_k \\times \\xi^{(h)}_k,\\; \\xi^{(h)}_k\\sim N(1,\\alpha)$\n",
        "  - Improper (log uniform) Prior: $p(\\log |w^{(h)}_{jk}|) \\propto c$\n",
        "    - This (improper) prior is chosen so no shrinkage (i.e., bias) is induced on the weights; thus, the only form of regularization present is dropout; thus, (ideally) dropout may then be interpreted as characterizing uncertainty rather than simply as a regularization tool.\n",
        "- Hron, Matthews, and Ghahramani (2017) -- in Section 2 of [Variational Gaussian Dropout is not Bayesian](https://arxiv.org/abs/1711.02989) -- show that the improper prior of Kingma/Salimans/Welling (2015) induces an improper posterior; thus,\n",
        "  - the posterior that Kingma/Salimans/Welling (2015) attempts to approximate (via variational inference) does not exist and thus the approximation cannot provide a Bayesian approximation interpretation (regardless of whether or not the method itself has good properties as an optimzation objective function).\n",
        "- Gal and Ghahramani [the same author] (2017) -- in [Dropout as a Bayesian Approximation:\n",
        "Representing Model Uncertainty in Deep Learning](https://arxiv.org/abs/1506.02142) and with fuller explanatory details available in [Dropout as a Bayesian Approximation: Appendix](https://arxiv.org/abs/1506.02157) and [Chapter 6 of Gal's PhD Thesis](https://t.co/YXw7UX7I9P?amp=1) -- \n",
        "then show that there is a different perspective of neural network dropout which can be characterized as Bayesian approximation; namely,\n",
        "\n",
        "  $$\\underset{\\text{point masses}}{\\text{Dropout}} \\overset{approximates}{\\longrightarrow} \\underset{\\text{via variational inference}}{\\text{Sparse Spectrum GP}} \\overset{approximates}{\\longrightarrow} \\text{GP}$$\n",
        "\n",
        "   where the variational distribuition over $\\tilde w^{(h)}_{jk}$ used for sparse spectrum variational inference approximation of a GP is itself approximated by the dropout variational distribuition of a dropout neural network\n",
        "\n",
        "  $$\\tilde w^{(h)}_{jk} \\sim p^{(h)}N(m^{(h)}_{jk}, \\sigma^2) + (1-p^{(h)})N(0, \\sigma^2) \\overset{\\sigma \\rightarrow 0}{\\approx}  z^{(h)}_j m^{(h)}_{jk} + (1-z^{(h)}_j), \\; z^{(h)}_j \\sim bin(p^{(h)})$$\n",
        "\n",
        "  so while Kingma/Salimans/Welling (2015) focuses interpretation on the variational distributions of each $w^{(h)}_{jk}$, Gal/Ghahramani (2017) focuses interpretation on the entire neural network object itself as a variational distribution approximating a (sparse spectrum) GP.\n",
        "  \n",
        "  - Binary Dropout: $\\tilde w^{(h)}_{jk} =  w^{(h)}_{jk} \\times z^{(h)}_j, \\; z_j^{(h)} \\sim bin(p^{(h)}),\\;$ i.e., input $x_j$ in matrix multiplication $x\\tilde W$ disappears\n",
        "    - $w^{(h)}_{jk}$ are initialized with scale $1/p^{(h)}$ and all $x_j$ are resampled for each forward pass and persist through the following backward pass\n",
        "    - after training and all $x_j$ are set to $1$ and $w^{(h)}_{jk}$ are scaled by $p^{(h)}$ so the output magnitudes are maintained in th sense that $E[xW]=E[x\\tilde W]$\n",
        "    - other forms of dropout, including Gaussian Dropout, can alternatively be used in this development, but specifics of alternative dropout specifications are not detailed\n",
        "  - Gaussian Process (GP): a distribution over functions defined by a covariance function that can, e.g., be used as a prior in a Bayesian analysis.\n",
        "    - The dropout model above approximates a GP; because,\n",
        "    - A classification or regression objective along with $L_2$ regularization on $w^{(h)}_{jk}$ (and the standard bias parameters) for the dropout model above results in the same objective function as that for sparse spectrum (i.e., sparse weighted basis function) GP approximation.\n",
        "      - I.e., a GP is a multivariate normal (MVN) distribution with a covariance function, which can be defined with a matrix transformation of an independent MVN, and the matrix transofrmation may be \"sparsified\" in a spectral (i.e., SVD) manner using a selection prior.\n",
        "    - GPs are not in general calibrated probability models; meaning, the choice of covariance function dictates the behavior of extrapolation uncertainty.\n",
        "  - The notations of the key objects of this methodology in this paper are \n",
        "    - $\\tau$ the precision of the residual of data modeled with a GP\n",
        "    - $\\sigma \\rightarrow 0$ which is used to mathematically approximate dropout (two point mass distribution) with a two component mixture of (spikey) normal distributions **viewed as a variational HYPERparameter** (to be tuned/selected)\n",
        "    - $p^{(h)}_{j}$ the dropout probability **viewed as a variational HYPERparameter** (to be tuned/selected)\n",
        "    - $m^{(h)}_{jk}$ the location of the nonzero mass component **viewed as a variational parameter** (to be optimized)\n",
        "    - $l$ (and $l'$ and $K$) which are so-called prior length-scales allowing for informative prior specifications \n",
        "    - $p_l(\\tilde w^{(h)}_{jk})$ the prior specification\n",
        "    - $p(\\tilde w^{(h)}_{jk}|\\mathcal D)$ the true posterior distribution\n",
        "    - $q_{p_j^{(h)}}(\\tilde w^{(h)}_{jk}|\\mathcal D)$ the variational distribution approximating the posterior and for which the KL-divergence is evaluated against the prior\n",
        "\n",
        "      - where for sparse spectral GP approximation and dropout approximation of sparse spectral GP approximation the variational distributions are, respectively\n",
        "\n",
        "      $$p^{(h)}N(m_{jk}^{(h)}, \\sigma^2) + (1-p^{(h)})N(0, \\sigma^2) \\overset{\\sigma \\rightarrow 0}{\\approx}  z_j^{(h)} m^{(h)}_{jk} + (1-z_j^{(h)}), \\; z_j^{(h)} \\sim bin(p^{(h)})$$\n",
        "\n",
        "  \n",
        "\n",
        "\n"
      ]
    },
    {
      "cell_type": "code",
      "metadata": {
        "id": "iNeBjNlR1pEb",
        "colab": {
          "base_uri": "https://localhost:8080/",
          "height": 281
        },
        "outputId": "f5535876-3aa0-4f0c-cead-b0fd2659dd0b"
      },
      "source": [
        "# set up Bayesian Linear regression (with MC-dropout) with tensorflow -- perhaps this will help?\n",
        "# https://tensorchiefs.github.io/dl_book/\n",
        "# https://colab.research.google.com/github/tensorchiefs/dl_book/blob/master/chapter_08/nb_ch08_03.ipynb\n",
        "\n",
        "def generate_data(n):\n",
        "  np.random.seed(1)\n",
        "  x = np.linspace(0, 2*np.pi, n)\n",
        "  y = 3 * np.sin(x)\n",
        "  y_noise = np.concatenate((np.zeros(60), \n",
        "                            y + np.random.normal(0, 0.15*np.abs(y), n), \n",
        "                            np.zeros(60)))\n",
        "  x_extended = np.concatenate((np.linspace(-3, 0, 60), \n",
        "                               np.linspace(0, 6*np.pi, n),\n",
        "                               np.linspace(6*np.pi, 6*np.pi + 3, 60)))\n",
        "  y_reg = y_noise + 0.1 * x_extended + 1\n",
        "  return x_extended, y_reg\n",
        "\n",
        "x, y = generate_data(300)\n",
        "plt.plot(x, y, '.')\n",
        "plt.title(\"Data for Bayesian Linear Regression\")\n",
        "plt.show()"
      ],
      "execution_count": 6,
      "outputs": [
        {
          "output_type": "display_data",
          "data": {
            "image/png": "[encoded data removed]",
            "text/plain": [
              "<Figure size 432x288 with 1 Axes>"
            ]
          },
          "metadata": {
            "needs_background": "light"
          }
        }
      ]
    },
    {
      "cell_type": "code",
      "source": [
        "# Model 1: standard neural network\n",
        "\n",
        "def neg_loglike(target, pred_distribution):\n",
        "  return -pred_distribution.log_prob(target)\n",
        "\n",
        "def output_normal(params):\n",
        "  return tfp.distributions.Normal(\n",
        "      # mean and variance learned from the previous layer\n",
        "      loc=params[:,0:1],\n",
        "      scale=1e-3 + tf.math.softplus(0.05 * params[:, 1:2])\n",
        "  )\n",
        "\n",
        "inputs = layers.Input(shape=(1,))\n",
        "features = layers.Dense(50, activation=\"relu\")(inputs)\n",
        "features = layers.Dense(50, activation=\"relu\")(features)\n",
        "features = layers.Dense(50, activation=\"relu\")(features)\n",
        "params = layers.Dense(2)(features)\n",
        "pred_distribution = tfp.layers.DistributionLambda(output_normal)(params)\n",
        "\n",
        "model1 = tf.keras.Model(inputs=inputs, outputs=pred_distribution)\n",
        "model1.compile(tf.keras.optimizers.Adam(), loss=neg_loglike)\n",
        "\n",
        "# fit model 1 \n",
        "history1 = model1.fit(x, y, epochs=1000, verbose=0, batch_size=32)\n",
        "plt.plot(history1.history['loss'])\n",
        "plt.ylabel(\"Negative log likelihood\")\n",
        "plt.show()\n"
      ],
      "metadata": {
        "colab": {
          "base_uri": "https://localhost:8080/",
          "height": 268
        },
        "id": "pjv3-UUSdOEa",
        "outputId": "b64c0066-2a0e-4343-b04f-88f6412f8797"
      },
      "execution_count": 12,
      "outputs": [
        {
          "output_type": "display_data",
          "data": {
            "image/png": "[encoded data removed]",
            "text/plain": [
              "<Figure size 432x288 with 1 Axes>"
            ]
          },
          "metadata": {
            "needs_background": "light"
          }
        }
      ]
    },
    {
      "cell_type": "code",
      "source": [
        "# Model 1 predictions for test\n",
        "x_test = np.arange(-10, 30, 0.3)\n",
        "\n",
        "predictions = []\n",
        "for i in range(200):\n",
        "  predictions.append(model1.predict(x_test))\n",
        "predictions = np.array(predictions)\n",
        "mu = np.squeeze(np.mean(predictions, axis=0))\n",
        "std = np.squeeze(np.std(predictions, axis=0))\n",
        "\n",
        "plt.plot(x_test, mu, label=\"Mean prediction\")\n",
        "plt.fill_between(x_test, mu - 2*std, mu + 2 * std, alpha=0.2)\n",
        "plt.title(\"Prediction of NN model\")\n",
        "plt.show()"
      ],
      "metadata": {
        "colab": {
          "base_uri": "https://localhost:8080/",
          "height": 281
        },
        "id": "mZSgk8qNmUTS",
        "outputId": "d2addff9-dee4-47dd-9982-5abf8663fb65"
      },
      "execution_count": 47,
      "outputs": [
        {
          "output_type": "display_data",
          "data": {
            "image/png": "[encoded data removed]",
            "text/plain": [
              "<Figure size 432x288 with 1 Axes>"
            ]
          },
          "metadata": {
            "needs_background": "light"
          }
        }
      ]
    },
    {
      "cell_type": "code",
      "source": [
        "# Model 2: (Bayesian) Variance Inference\n",
        "def kernel_divergence_fn(q, p, _):\n",
        "  return tfp.distributions.kl_divergence(q, p) / x.shape[0]\n",
        "def bias_divergence_fn(q, p, _):\n",
        "  return tfp.distributions.kl_divergence(q, p) / x.shape[0]\n",
        "\n",
        "inputs = layers.Input(shape=(1,))\n",
        "features = tfp.layers.DenseFlipout(20, bias_posterior_fn=tfp.layers.util.default_mean_field_normal_fn(),\n",
        "                                   bias_prior_fn=tfp.layers.default_multivariate_normal_fn,\n",
        "                                   kernel_divergence_fn=kernel_divergence_fn,\n",
        "                                   bias_divergence_fn = bias_divergence_fn,\n",
        "                                   activation = \"relu\")(inputs)\n",
        "for i in range(2):\n",
        "  features = tfp.layers.DenseFlipout(20, bias_posterior_fn=tfp.layers.util.default_mean_field_normal_fn(),\n",
        "                                   bias_prior_fn=tfp.layers.default_multivariate_normal_fn,\n",
        "                                   kernel_divergence_fn=kernel_divergence_fn,\n",
        "                                   bias_divergence_fn = bias_divergence_fn,\n",
        "                                   activation = \"relu\")(features)\n",
        "params = tfp.layers.DenseFlipout(2, bias_posterior_fn=tfp.layers.util.default_mean_field_normal_fn(),\n",
        "                                   bias_prior_fn=tfp.layers.default_multivariate_normal_fn,\n",
        "                                   kernel_divergence_fn=kernel_divergence_fn,\n",
        "                                   bias_divergence_fn = bias_divergence_fn,\n",
        "                                   activation = \"relu\")(features)\n",
        "pred_distribution = tfp.layers.DistributionLambda(output_normal)(params)\n",
        "\n",
        "model2 = tf.keras.Model(inputs=inputs, outputs=pred_distribution)\n",
        "model2.compile(tf.keras.optimizers.Adam(), loss=neg_loglike)\n",
        "\n",
        "history2 = model2.fit(x, y, epochs=1000, verbose=0, batch_size=32)\n",
        "plt.plot(history2.history['loss'])\n",
        "plt.ylabel(\"Negative log likelihood\")\n",
        "plt.show()"
      ],
      "metadata": {
        "colab": {
          "base_uri": "https://localhost:8080/",
          "height": 354
        },
        "id": "7QjKvQwhz1WR",
        "outputId": "204074c4-7789-4a69-d89e-4de8bd9daa6b"
      },
      "execution_count": 36,
      "outputs": [
        {
          "output_type": "stream",
          "name": "stderr",
          "text": [
            "/usr/local/lib/python3.7/dist-packages/tensorflow_probability/python/layers/util.py:102: UserWarning: `layer.add_variable` is deprecated and will be removed in a future version. Please use `layer.add_weight` method instead.\n",
            "  trainable=trainable)\n",
            "/usr/local/lib/python3.7/dist-packages/tensorflow_probability/python/layers/util.py:112: UserWarning: `layer.add_variable` is deprecated and will be removed in a future version. Please use `layer.add_weight` method instead.\n",
            "  trainable=trainable)\n"
          ]
        },
        {
          "output_type": "display_data",
          "data": {
            "image/png": "[encoded data removed]",
            "text/plain": [
              "<Figure size 432x288 with 1 Axes>"
            ]
          },
          "metadata": {
            "needs_background": "light"
          }
        }
      ]
    },
    {
      "cell_type": "markdown",
      "source": [
        "Quote from the reference page of tfp.layers.DenseFlipout():\n",
        "\n",
        "\"It uses the Flipout estimator [(Wen et al., 2018)][1], which performs a Monte Carlo approximation of the distribution integrating over the kernel and bias. Flipout uses roughly twice as many floating point operations as the reparameterization estimator but has the advantage of significantly lower variance.\""
      ],
      "metadata": {
        "id": "nk9fR7DH3eTg"
      }
    },
    {
      "cell_type": "code",
      "source": [
        "# VI model test\n",
        "predictions = []\n",
        "for i in range(200):\n",
        "  predictions.append(model2.predict(x_test))\n",
        "predictions = np.array(predictions)\n",
        "mu = np.squeeze(np.mean(predictions, axis=0))\n",
        "std = np.squeeze(np.std(predictions, axis=0))\n",
        "\n",
        "plt.plot(x_test, mu, label=\"Mean prediction\")\n",
        "plt.fill_between(x_test, mu - 2*std, mu + 2 * std, alpha=0.2)\n",
        "plt.title(\"Prediction of VI model\")\n",
        "plt.show()"
      ],
      "metadata": {
        "colab": {
          "base_uri": "https://localhost:8080/",
          "height": 281
        },
        "id": "VlOu6Ng19yvu",
        "outputId": "4581f103-8b6c-4808-d180-6e40969b9edc"
      },
      "execution_count": 52,
      "outputs": [
        {
          "output_type": "display_data",
          "data": {
            "image/png": "[encoded data removed]",
            "text/plain": [
              "<Figure size 432x288 with 1 Axes>"
            ]
          },
          "metadata": {
            "needs_background": "light"
          }
        }
      ]
    },
    {
      "cell_type": "code",
      "source": [
        "# Model 3 MC Dropout as Bayesian\n",
        "\n",
        "inputs = layers.Input(shape=(1,))\n",
        "features = layers.Dense(500, activation=\"relu\")(inputs)\n",
        "features = layers.Dropout(0.1)(features, training=True)\n",
        "for i in range(3):\n",
        "  features = layers.Dense(500, activation=\"relu\")(features)\n",
        "  features = layers.Dropout(0.1)(features, training=True)\n",
        "params = layers.Dense(2)(features)\n",
        "pred_distribution = tfp.layers.DistributionLambda(output_normal)(params)\n",
        "\n",
        "model_dropout = tf.keras.Model(inputs=inputs, outputs=pred_distribution)\n",
        "model_dropout.compile(tf.keras.optimizers.Adam(), loss=neg_loglike)\n",
        "history3 = model_dropout.fit(x, y, epochs=1000, verbose=0, batch_size=32)\n",
        "plt.plot(history3.history[\"loss\"])\n",
        "plt.ylabel(\"Negative log likelihood\")\n",
        "plt.show()\n"
      ],
      "metadata": {
        "colab": {
          "base_uri": "https://localhost:8080/",
          "height": 265
        },
        "id": "UnMzI1bFEOqP",
        "outputId": "cd6f58bc-bdb5-4d9d-cf0d-83edccaf6998"
      },
      "execution_count": 51,
      "outputs": [
        {
          "output_type": "display_data",
          "data": {
            "image/png": "[encoded data removed]",
            "text/plain": [
              "<Figure size 432x288 with 1 Axes>"
            ]
          },
          "metadata": {
            "needs_background": "light"
          }
        }
      ]
    },
    {
      "cell_type": "code",
      "source": [
        "# MC Dropout model test\n",
        "predictions = []\n",
        "for i in range(200):\n",
        "  predictions.append(model_dropout.predict(x_test))\n",
        "predictions = np.array(predictions)\n",
        "mu = np.squeeze(np.mean(predictions, axis=0))\n",
        "std = np.squeeze(np.std(predictions, axis=0))\n",
        "\n",
        "plt.plot(x_test, mu, label=\"Mean prediction\")\n",
        "plt.fill_between(x_test, mu - 2*std, mu + 2 * std, alpha=0.2)\n",
        "plt.title(\"Prediction of MC Dropout model\")\n",
        "plt.show()"
      ],
      "metadata": {
        "colab": {
          "base_uri": "https://localhost:8080/",
          "height": 281
        },
        "id": "mQ2vDTP5Gun8",
        "outputId": "f7158996-d976-4cde-b51c-b1e2d568eb06"
      },
      "execution_count": 54,
      "outputs": [
        {
          "output_type": "display_data",
          "data": {
            "image/png": "[encoded data removed]",
            "text/plain": [
              "<Figure size 432x288 with 1 Axes>"
            ]
          },
          "metadata": {
            "needs_background": "light"
          }
        }
      ]
    },
    {
      "cell_type": "code",
      "metadata": {
        "id": "4qpxMvrK2aw-"
      },
      "source": [
        "# Check out Chapter 6 of Gal's PhD Thesis: https://t.co/YXw7UX7I9P?amp=1\n",
        "# Let's see if our empirical results line up with his theoretical results!\n"
      ],
      "execution_count": null,
      "outputs": []
    },
    {
      "cell_type": "markdown",
      "metadata": {
        "id": "kPp_iln12HNZ"
      },
      "source": [
        "## Other Noise\n",
        "\n",
        "- Hron, Matthews, and Ghahramani [the same author] (2018) again return to characterize the impact of the distibutional singularity (e.g., point mass) approximation (most clearly presented in [Dropout as a Bayesian Approximation: Appendix](https://arxiv.org/abs/1506.02157)  and [Chapter 6 of Gal's PhD Thesis](https://t.co/YXw7UX7I9P?amp=1)) of Gal/Ghahramani (2017) in Section 4.1 of [Variational Bayesian dropout: pitfalls and fixes](https://arxiv.org/abs/1807.01969); which, inadvertantly, may also provide part of the framework that is helpful in addressing a [criticism raised by Ian Osband](https://mobile.twitter.com/ianosband/status/1014466510885216256?lang=en) regarding posterior mode collapse failure (with related commentary available [here](https://www.reddit.com/r/MachineLearning/comments/8w0v9m/d_ian_osband_dropout_posteriors_give_bad/) and [here](https://www.reddit.com/r/MachineLearning/comments/emt4ke/discussion_research_variational_bayesian/), and some additional notes and illustration available [here](http://bayesiandeeplearning.org/2016/papers/BDL_4.pdf)).\n",
        "  - The \"mode collapse failure\" issue is that dropout rate $p^{(h)}_j$ may not collapse towards $0$ as data increases even when treated as a variational parameter (and certainly won't if treated as a fixed value).\n",
        "  - While [Chapter 6 of Gal's PhD Thesis](https://t.co/YXw7UX7I9P?amp=1) shows promising theretical results contradicting the former claim, section 6.4 therein begins examining the various challenges in estimating $p^{(h)}_j$ which do in fact actually exist.\n",
        "  - The Hron/Matthews/Ghahramani (2018) \"pitfalls and fixes\" manuscript notes that hyperparameters associated with the prior $p_l(\\tilde w^{(h)}_{jk})$, i.e., $l$, may work in favor of the approximation of the (itself approximating) variational distribution, rather than the intended variation distribution (since this itself is being approximated); thus, prior hyperparameters cannot be interpreted as necessarily working in favor of the true posterior; however, this does not address why variational distribution parameters, i.e., $p^{(h)}_j$, are perform problematically as variational parameters.\n",
        "    - Again, [Chapter 6 of Gal's PhD Thesis](https://t.co/YXw7UX7I9P?amp=1) provides the richest considerations and evaluations regarding this topic.\n",
        "  - The Hron/Matthews/Ghahramani (2018) \"pitfalls and fixes\" manuscript manuscript also provides a general framework in which the issues of Kingma/Salimans/Welling (2015) are also addressed.\n",
        "\n"
      ]
    },
    {
      "cell_type": "markdown",
      "metadata": {
        "id": "H3ngElxt2pU_"
      },
      "source": [
        "# In Progress... (aka ignore for now)"
      ]
    },
    {
      "cell_type": "markdown",
      "metadata": {
        "id": "kXjA3E9J21tx"
      },
      "source": [
        "- Batch norm paper"
      ]
    }
  ]
}