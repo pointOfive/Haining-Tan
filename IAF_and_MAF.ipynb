{
  "nbformat": 4,
  "nbformat_minor": 0,
  "metadata": {
    "colab": {
      "name": "IAF and MAF",
      "provenance": []
    },
    "kernelspec": {
      "name": "python3",
      "display_name": "Python 3"
    },
    "language_info": {
      "name": "python"
    }
  },
  "cells": [
    {
      "cell_type": "markdown",
      "metadata": {
        "id": "F7ZKtQNerP4A"
      },
      "source": [
        "# Inverse Autoregressive Flow (IAF)"
      ]
    },
    {
      "cell_type": "markdown",
      "metadata": {
        "id": "srDHeDPO18E3"
      },
      "source": [
        "### General normalizing flow set-up: \n",
        "\n",
        "The general idea is to transform an initial random variable from a simple distribution to a variable with a more complex distribution through a chain of invertible transformations $f_t$.\n",
        "\n",
        "$$\\mathbf{z}_0 \\sim q(\\mathbf{z}_0| \\mathbf{x}), \\mathbf{z}_t = f_t(\\mathbf{z}_{t-1}, \\mathbf{x})$$\n",
        "\n",
        "We can compute the final pdf:\n",
        "$$\\log q(\\mathbf{z}_T | \\mathbf{x}) = \\log q(\\mathbf{z}_0|\\mathbf{x}) - \\sum_{t=1}^T \\log \\det|\\frac{d\\mathbf{z}_t}{d\\mathbf{z}_{t-1}}|$$"
      ]
    },
    {
      "cell_type": "markdown",
      "metadata": {
        "id": "T64uBU5Fqqnw"
      },
      "source": [
        "### Motivation of IAF: \n",
        "\n",
        "Simple flows like planar/radial flow are useful only in low-dimensional space, we want to find a type of normalizing flow that scales well to high-dimensional space. \n",
        "\n"
      ]
    },
    {
      "cell_type": "markdown",
      "metadata": {
        "id": "U2nsI_IK51JE"
      },
      "source": [
        "### IAF model:\n",
        "\n",
        "Let $[\\boldsymbol{\\mu}^t, \\boldsymbol{\\sigma}^t]$ be functions $R^d \\rightarrow R^d$ satisfying autoregressive property (lower triangular).\n",
        "\n",
        "Given target variable $\\mathbf{y}$ and latent variable $\\mathbf{z}_{t-1} = [z^{t-1}_0, ..., z^{t-1}_d]$ at iteration $(t-1)$ of the transformation. The flow $\\mathbf{z}_{t} = f_t(\\mathbf{z}_{t-1})$ is defined as:\n",
        "\n",
        "* $z^t_0 = \\mu^t_{0} + \\sigma^t_{0}*z^{t-1}_0$\n",
        "\n",
        "* For $i>0$, $z^t_i = \\mu^t_{i}(\\mathbf{z}^{t-1}_{0:i-1}) + \\sigma^t_{i}(\\mathbf{z}^{t-1}_{0:i-1})*z^{t-1}_i$\n",
        "\n",
        "Note that each $[\\mu^t_i, \\sigma^t_i]$ only takes (the first $i-1$ elements of) the **previous** latent variable $\\mathbf{z}_{t-1}$ as input . So this can be written in a compact form $\\mathbf{z}_t = \\boldsymbol{\\mu}_t + \\boldsymbol{\\sigma}_t \\circ \\mathbf{z}_{t-1}$. And one advantage of this is that a single forward pass $\\mathbf{y} = f_T\\circ \\dots \\circ f_1(\\mathbf{z})$ can be computed parallelly and efficiently, which benefits the sampling process.\n",
        "\n",
        "However, the inverse operation for inference is expansive. Given data $\\mathbf{y}$, the inverse of flow transformation $f_t$ can be derived as:\n",
        "\n",
        "* $$z_0^{t-1} = \\frac{z_0^t - \\mu_0^t}{\\sigma^t_0}$$\n",
        "\n",
        "* $$z_i^{t-1} = \\frac{z^t_i - \\mu^t_{i}(\\mathbf{z}^{t-1}_{0:i-1})}{\\sigma^t_{i}(\\mathbf{z}^{t-1}_{0:i-1})}$$\n",
        "\n",
        "The inverse operation to compute $\\mathbf{z}_{t-1}$ depends on its own (first $i - 1$) elements. As a consequence, the inverse computation $\\mathbf{z} = f_T^{-1}\\circ \\dots \\circ f_1^{-1}(\\mathbf{y})$  must be done in a sequential order, which makes the inference (density estimation) process expensive. This motivates another methodology Masked Autoregressive Flow. \n",
        "\n"
      ]
    },
    {
      "cell_type": "markdown",
      "metadata": {
        "id": "k8KH7htXe8Lx"
      },
      "source": [
        "# Masked Autoregressive Flow (MAF)"
      ]
    },
    {
      "cell_type": "markdown",
      "metadata": {
        "id": "2_wl9wz0_PbY"
      },
      "source": [
        "The MAF model is quite similar to the IAF model and they are an inverse version of each other. \n",
        "\n",
        "Given target variable $\\mathbf{y}$ and latent variable $\\mathbf{z}_{t-1} = [z^{t-1}_0, ..., z^{t-1}_d]$ at iteration $(t-1)$ of the transformation. The flow $\\mathbf{z}_{t} = f_t(\\mathbf{z}_{t-1})$ is defined as:\n",
        "\n",
        "* $z^t_0 = \\mu^t_{0} + \\sigma^t_{0}*z^{t-1}_0$\n",
        "\n",
        "* For $i>0$, $z^t_i = \\mu^t_{i}(\\mathbf{z}^t_{0:i-1}) + \\sigma^t_{i}(\\mathbf{z}^t_{0:i-1})*z^{t-1}_i$\n",
        "\n",
        "Note that each $[\\mu^t_{i}, \\sigma^t_{i}]$ takes (the first $i-1$ elements of) the **new** latent variable $\\mathbf{z}^t$ as input. This means the flow transformation must be done in a sequential order, which leads to an expensive forward pass and an inefficient sampling process. \n",
        "\n",
        "But we can see the advantage of MAF in density estimation. Consider the inverse transformation of $f_t$:\n",
        "\n",
        "* $$z_0^{t-1} = \\frac{z_0^t - \\mu_0^t}{\\sigma^t_0}$$\n",
        "\n",
        "* $$z_i^{t-1} = \\frac{z^t_i - \\mu^t_{i}(\\mathbf{z}^{t}_{0:i-1})}{\\sigma^t_{i}(\\mathbf{z}^{t}_{0:i-1})}$$\n",
        "\n",
        "The computation of $\\mathbf{z}_{t-1}$ only depends on $\\mathbf{z}_t$, which distinguishes MAF from IAF. And this can be written in a compact form $\\mathbf{z}_{t-1} = \\frac{\\mathbf{z}_t - \\boldsymbol{\\mu}_t}{\\boldsymbol{\\sigma}_t}$ and computed efficiently, which benefits the inference process (requiring inverse operation to evaluation the probability of a sample). "
      ]
    },
    {
      "cell_type": "markdown",
      "metadata": {
        "id": "e7vLS7bE7GQl"
      },
      "source": [
        "**Question:** What distinguishes MAF methodology from MADE methodology?\n",
        "\n",
        "* Both IAF and MAF use MADE as their component layer."
      ]
    },
    {
      "cell_type": "markdown",
      "metadata": {
        "id": "XYFjCHQbgY46"
      },
      "source": [
        "**Question**: Is the methodology coded up in the second block of [this documentation](https://www.tensorflow.org/probability/api_docs/python/tfp/bijectors/AutoregressiveNetwork) MADE or MAF? How to rationalize the comment \"# Density estimation with MADE.\"?"
      ]
    },
    {
      "cell_type": "markdown",
      "metadata": {
        "id": "KSyrh2Biq7wZ"
      },
      "source": [
        "**Question:** Why does IAF methodology exist when MAF methodology is already available?\n",
        "\n",
        "As discussed above, IAF and MAF are actually an inverse version of each other. There exists trade-offs between MAF and IAF for efficient forward pass or efficient inverse operation. While MAF can do density estimation efficiently by computing the inverse operation parallelly, IAF can compute the forward pass $\\mathbf{y} = f_T\\circ \\dots \\circ f_1(\\mathbf{z})$ efficiently. So if we need to sample a large amount of data from the model, IAF is preferred. \n"
      ]
    },
    {
      "cell_type": "markdown",
      "metadata": {
        "id": "fF254ThXivdj"
      },
      "source": [
        "**Question**: What is the primary methodological capability that distinguishes Normalizing Flows from GANs?"
      ]
    },
    {
      "cell_type": "markdown",
      "metadata": {
        "id": "1LIBK2v8ZL4H"
      },
      "source": [
        "# TFP implementation"
      ]
    },
    {
      "cell_type": "code",
      "metadata": {
        "id": "eA5Bparpe61c"
      },
      "source": [
        "import numpy as np\n",
        "import matplotlib.pyplot as plt\n",
        "import tensorflow as tf\n",
        "import tensorflow_probability as tfp\n",
        "tfb = tfp.bijectors\n",
        "tfd = tfp.distributions\n",
        "tfk = tf.keras\n",
        "tfkl = tf.keras.layers"
      ],
      "execution_count": 7,
      "outputs": []
    },
    {
      "cell_type": "code",
      "metadata": {
        "colab": {
          "base_uri": "https://localhost:8080/",
          "height": 282
        },
        "id": "7SME693R8pfA",
        "outputId": "b6090c47-5c8b-4a12-e7dd-8f70f75d0767"
      },
      "source": [
        "n = 2000\n",
        "x2 = np.random.randn(n).astype(dtype=np.float32) * 2.\n",
        "x1 = np.random.randn(n).astype(dtype=np.float32) + (x2 * x2 / 4.)\n",
        "data = np.stack([x1, x2], axis=-1)\n",
        "plt.plot(x1, x2, \".\")"
      ],
      "execution_count": 6,
      "outputs": [
        {
          "output_type": "execute_result",
          "data": {
            "text/plain": [
              "[<matplotlib.lines.Line2D at 0x7f95018ee050>]"
            ]
          },
          "metadata": {},
          "execution_count": 6
        },
        {
          "output_type": "display_data",
          "data": {
            "image/png": "[encoded data removed]",
            "text/plain": [
              "<Figure size 432x288 with 1 Axes>"
            ]
          },
          "metadata": {
            "needs_background": "light"
          }
        }
      ]
    },
    {
      "cell_type": "markdown",
      "metadata": {
        "id": "tPi0iJLjhXu4"
      },
      "source": [
        "**Will finish soon**"
      ]
    },
    {
      "cell_type": "markdown",
      "metadata": {
        "id": "pmWXRhRxpwPn"
      },
      "source": [
        "# References\n",
        "\n",
        "* https://arxiv.org/abs/1606.04934\n",
        "\n",
        "* https://arxiv.org/abs/1705.07057\n",
        "\n",
        "* http://akosiorek.github.io/ml/2018/04/03/norm_flows.html\n",
        "\n",
        "* https://www.ritchievink.com/blog/2019/11/12/another-normalizing-flow-inverse-autoregressive-flows/\n",
        "\n",
        "* https://arxiv.org/abs/2006.10175"
      ]
    }
  ]
}