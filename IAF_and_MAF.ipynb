{
  "nbformat": 4,
  "nbformat_minor": 0,
  "metadata": {
    "colab": {
      "name": "IAF and MAF",
      "provenance": []
    },
    "kernelspec": {
      "name": "python3",
      "display_name": "Python 3"
    },
    "language_info": {
      "name": "python"
    }
  },
  "cells": [
    {
      "cell_type": "markdown",
      "metadata": {
        "id": "F7ZKtQNerP4A"
      },
      "source": [
        "# Inverse Autoregressive Flow (IAF)"
      ]
    },
    {
      "cell_type": "markdown",
      "metadata": {
        "id": "srDHeDPO18E3"
      },
      "source": [
        "### General normalizing flow set-up: \n",
        "\n",
        "The general idea is to transform an initial random variable from a simple distribution to a variable with a more complex distribution through a chain of invertible transformations $f_t$.\n",
        "\n",
        "$$\\mathbf{z}_0 \\sim q(\\mathbf{z}_0| \\mathbf{x}), \\mathbf{z}_t = f_t(\\mathbf{z}_{t-1}, \\mathbf{x})$$\n",
        "\n",
        "We can compute the final pdf:\n",
        "$$\\log q(\\mathbf{z}_T | \\mathbf{x}) = \\log q(\\mathbf{z}_0|\\mathbf{x}) - \\sum_{t=1}^T \\log \\det|\\frac{d\\mathbf{z}_t}{d\\mathbf{z}_{t-1}}|$$"
      ]
    },
    {
      "cell_type": "markdown",
      "metadata": {
        "id": "T64uBU5Fqqnw"
      },
      "source": [
        "### Motivation of IAF: \n",
        "\n",
        "Simple flows like planar/radial flow are useful only in low-dimensional space, we want to find a type of normalizing flow that scales well to high-dimensional space. \n",
        "\n"
      ]
    },
    {
      "cell_type": "markdown",
      "metadata": {
        "id": "U2nsI_IK51JE"
      },
      "source": [
        "### IAF model:\n",
        "\n",
        "Let $[\\boldsymbol{\\mu}^t, \\boldsymbol{\\sigma}^t]$ be functions $R^d \\rightarrow R^d$ satisfying autoregressive property (lower triangular).\n",
        "\n",
        "Given target variable $\\mathbf{y}$ and latent variable $\\mathbf{z}_{t-1} = [z^{t-1}_0, ..., z^{t-1}_d]$ at iteration $(t-1)$ of the transformation. The flow $\\mathbf{z}_{t} = f_t(\\mathbf{z}_{t-1})$ is defined as:\n",
        "\n",
        "* $z^t_0 = \\mu^t_{0} + \\sigma^t_{0}*z^{t-1}_0$\n",
        "\n",
        "* For $i>0$, $z^t_i = \\mu^t_{i}(\\mathbf{z}^{t-1}_{0:i-1}) + \\sigma^t_{i}(\\mathbf{z}^{t-1}_{0:i-1})*z^{t-1}_i$\n",
        "\n",
        "Note that each $[\\mu^t_i, \\sigma^t_i]$ only takes (the first $i-1$ elements of) the **previous** latent variable $\\mathbf{z}_{t-1}$ as input . So this can be written in a compact form $\\mathbf{z}_t = \\boldsymbol{\\mu}_t + \\boldsymbol{\\sigma}_t \\circ \\mathbf{z}_{t-1}$. And one advantage of this is that a single forward pass $\\mathbf{y} = f_T\\circ \\dots \\circ f_1(\\mathbf{z})$ can be computed parallelly and efficiently, which benefits the sampling process.\n",
        "\n",
        "However, the inverse operation for inference is expansive. Given data $\\mathbf{y}$, the inverse of flow transformation $f_t$ can be derived as:\n",
        "\n",
        "* $$z_0^{t-1} = \\frac{z_0^t - \\mu_0^t}{\\sigma^t_0}$$\n",
        "\n",
        "* $$z_i^{t-1} = \\frac{z^t_i - \\mu^t_{i}(\\mathbf{z}^{t-1}_{0:i-1})}{\\sigma^t_{i}(\\mathbf{z}^{t-1}_{0:i-1})}$$\n",
        "\n",
        "The inverse operation to compute $\\mathbf{z}_{t-1}$ depends on its own (first $i - 1$) elements. As a consequence, the inverse computation $\\mathbf{z} = f_T^{-1}\\circ \\dots \\circ f_1^{-1}(\\mathbf{y})$  must be done in a sequential order, which makes the inference (density estimation) process expensive. This motivates another methodology Masked Autoregressive Flow. \n",
        "\n"
      ]
    },
    {
      "cell_type": "markdown",
      "metadata": {
        "id": "k8KH7htXe8Lx"
      },
      "source": [
        "# Masked Autoregressive Flow (MAF)"
      ]
    },
    {
      "cell_type": "markdown",
      "metadata": {
        "id": "2_wl9wz0_PbY"
      },
      "source": [
        "The MAF model is quite similar to the IAF model and they are an inverse version of each other. \n",
        "\n",
        "Given target variable $\\mathbf{y}$ and latent variable $\\mathbf{z}_{t-1} = [z^{t-1}_0, ..., z^{t-1}_d]$ at iteration $(t-1)$ of the transformation. The flow $\\mathbf{z}_{t} = f_t(\\mathbf{z}_{t-1})$ is defined as:\n",
        "\n",
        "* $z^t_0 = \\mu^t_{0} + \\sigma^t_{0}*z^{t-1}_0$\n",
        "\n",
        "* For $i>0$, $z^t_i = \\mu^t_{i}(\\mathbf{z}^t_{0:i-1}) + \\sigma^t_{i}(\\mathbf{z}^t_{0:i-1})*z^{t-1}_i$\n",
        "\n",
        "Note that each $[\\mu^t_{i}, \\sigma^t_{i}]$ takes (the first $i-1$ elements of) the **new** latent variable $\\mathbf{z}^t$ as input. This means the flow transformation must be done in a sequential order, which leads to an expensive forward pass and an inefficient sampling process. \n",
        "\n",
        "But we can see the advantage of MAF in density estimation. Consider the inverse transformation of $f_t$:\n",
        "\n",
        "* $$z_0^{t-1} = \\frac{z_0^t - \\mu_0^t}{\\sigma^t_0}$$\n",
        "\n",
        "* $$z_i^{t-1} = \\frac{z^t_i - \\mu^t_{i}(\\mathbf{z}^{t}_{0:i-1})}{\\sigma^t_{i}(\\mathbf{z}^{t}_{0:i-1})}$$\n",
        "\n",
        "The computation of $\\mathbf{z}_{t-1}$ only depends on $\\mathbf{z}_t$, which distinguishes MAF from IAF. And this can be written in a compact form $\\mathbf{z}_{t-1} = \\frac{\\mathbf{z}_t - \\boldsymbol{\\mu}_t}{\\boldsymbol{\\sigma}_t}$ and computed efficiently, which benefits the inference process (requiring inverse operation to evaluation the probability of a sample). "
      ]
    },
    {
      "cell_type": "markdown",
      "metadata": {
        "id": "e7vLS7bE7GQl"
      },
      "source": [
        "**Question:** What distinguishes MAF methodology from MADE methodology?\n",
        "\n",
        "Both IAF and MAF use MADE as their component layer. MAF is a normalizing flow that represents a invertable transformation applied to a distribution. MADE can be considered as a (network) layer, while MAF is a bijector with inverse operation. "
      ]
    },
    {
      "cell_type": "markdown",
      "metadata": {
        "id": "XYFjCHQbgY46"
      },
      "source": [
        "**Question**: Is the methodology coded up in the second block of [this documentation](https://www.tensorflow.org/probability/api_docs/python/tfp/bijectors/AutoregressiveNetwork) MADE or MAF? How to rationalize the comment \"# Density estimation with MADE.\"?\n",
        "\n",
        "> made = tfb.AutoregressiveNetwork(params=2, hidden_units=[10, 10])\n",
        "\n",
        "This line constructs a layer function using MADE. \n",
        "\n",
        "> distribution = tfd.TransformedDistribution(\n",
        "    distribution=tfd.Sample(tfd.Normal(loc=0., scale=1.), sample_shape=[2]),\n",
        "    bijector=tfb.MaskedAutoregressiveFlow(made))\n",
        "\n",
        "This part constructs a MAF model using MADE as its component layer (bijector function). The input of the model is a \"base distribution\", standard 2D normal in this case. "
      ]
    },
    {
      "cell_type": "markdown",
      "metadata": {
        "id": "KSyrh2Biq7wZ"
      },
      "source": [
        "**Question:** Why does IAF methodology exist when MAF methodology is already available?\n",
        "\n",
        "As discussed above, IAF and MAF are actually an inverse version of each other. There exists trade-offs between MAF and IAF for efficient forward pass or efficient inverse operation. While MAF can do density estimation efficiently by computing the inverse operation parallelly, IAF can compute the forward pass $\\mathbf{y} = f_T\\circ \\dots \\circ f_1(\\mathbf{z})$ efficiently. So if we need to sample a large amount of data from the model, IAF is preferred. \n"
      ]
    },
    {
      "cell_type": "markdown",
      "metadata": {
        "id": "fF254ThXivdj"
      },
      "source": [
        "**Question**: What is the primary methodological capability that distinguishes Normalizing Flows from GANs?"
      ]
    },
    {
      "cell_type": "markdown",
      "metadata": {
        "id": "1LIBK2v8ZL4H"
      },
      "source": [
        "# TFP implementation using MAF"
      ]
    },
    {
      "cell_type": "code",
      "metadata": {
        "id": "eA5Bparpe61c"
      },
      "source": [
        "import numpy as np\n",
        "import matplotlib.pyplot as plt\n",
        "import tensorflow as tf\n",
        "import tensorflow_probability as tfp\n",
        "tfb = tfp.bijectors\n",
        "tfd = tfp.distributions\n",
        "tfk = tf.keras\n",
        "tfkl = tf.keras.layers"
      ],
      "execution_count": 1,
      "outputs": []
    },
    {
      "cell_type": "markdown",
      "metadata": {
        "id": "WfcXtYfzwIrk"
      },
      "source": [
        "## 1) 2D example"
      ]
    },
    {
      "cell_type": "code",
      "metadata": {
        "colab": {
          "base_uri": "https://localhost:8080/",
          "height": 282
        },
        "id": "7SME693R8pfA",
        "outputId": "95693ddf-5cc7-4143-e38e-96956b81ad0c"
      },
      "source": [
        "# Generate data X1 = X2^2 / 4\n",
        "\n",
        "n = 2000\n",
        "x2 = np.random.randn(n).astype(dtype=np.float32) * 2.\n",
        "x1 = np.random.randn(n).astype(dtype=np.float32) + (x2 * x2 / 4.)\n",
        "data = np.stack([x1, x2], axis=-1)\n",
        "plt.plot(x1, x2, \".\")\n",
        "plt.xlabel(\"X1\")\n",
        "plt.ylabel(\"X2\")\n",
        "plt.show()"
      ],
      "execution_count": 6,
      "outputs": [
        {
          "output_type": "display_data",
          "data": {
            "image/png": "[encoded data removed]",
            "text/plain": [
              "<Figure size 432x288 with 1 Axes>"
            ]
          },
          "metadata": {
            "needs_background": "light"
          }
        }
      ]
    },
    {
      "cell_type": "markdown",
      "metadata": {
        "id": "hHLwB8qFTL6e"
      },
      "source": [
        "### estimate density using MAF "
      ]
    },
    {
      "cell_type": "code",
      "metadata": {
        "colab": {
          "base_uri": "https://localhost:8080/"
        },
        "id": "_B_whU19bPuE",
        "outputId": "29ccb597-0ae3-432a-e66c-f458e1ccc30b"
      },
      "source": [
        "# A layer function of MADE (bijector function for MAF)\n",
        "made1 = tfb.AutoregressiveNetwork(params=2, hidden_units=[50,50])\n",
        "# made2 = tfb.AutoregressiveNetwork(params=2, hidden_units=[50,50])\n",
        "# made3 = tfb.AutoregressiveNetwork(params=2, hidden_units=[50,50])\n",
        "\n",
        "# Target distrbution transformed by MAF (3 layers)\n",
        "distribution = tfd.TransformedDistribution(\n",
        "    distribution=tfd.MultivariateNormalDiag(loc=[0,0], scale_diag=[1,1]), # base: 2D Gaussian\n",
        "    bijector=tfb.MaskedAutoregressiveFlow(made1))\n",
        "# distribution = tfd.TransformedDistribution(distribution, bijector=tfb.MaskedAutoregressiveFlow(made2))\n",
        "# distribution = tfd.TransformedDistribution(distribution, bijector=tfb.MaskedAutoregressiveFlow(made3))\n",
        "\n",
        "# fit tf model\n",
        "inputs = tfkl.Input(shape=(2,))\n",
        "outputs = distribution.log_prob(inputs)\n",
        "model = tfk.Model(inputs, outputs)\n",
        "\n",
        "def neg_log(true, output):\n",
        "  return -output\n",
        "model.compile(optimizer=tf.optimizers.Adam(), loss=neg_log)\n",
        "model.fit(x=data, y=np.zeros(n), epochs=10, verbose=False) # y does not matter (unsupervised)"
      ],
      "execution_count": 96,
      "outputs": [
        {
          "output_type": "execute_result",
          "data": {
            "text/plain": [
              "<keras.callbacks.History at 0x7fc4dd34b8d0>"
            ]
          },
          "metadata": {},
          "execution_count": 96
        }
      ]
    },
    {
      "cell_type": "code",
      "metadata": {
        "colab": {
          "base_uri": "https://localhost:8080/",
          "height": 279
        },
        "id": "zAeW4bBf0pBa",
        "outputId": "3f41758a-192c-42d6-c03d-e64741c2f005"
      },
      "source": [
        "# Sampling from the estimated density for visualization\n",
        "\n",
        "samples = distribution.sample(1000)\n",
        "x1_hat = samples[:, 0]\n",
        "x2_hat = samples[:, 1]\n",
        "plt.plot(x1_hat, x2_hat, \"r.\")\n",
        "plt.xlabel(\"X1\")\n",
        "plt.ylabel(\"X2\")\n",
        "plt.show()"
      ],
      "execution_count": 97,
      "outputs": [
        {
          "output_type": "display_data",
          "data": {
            "image/png": "[encoded data removed]",
            "text/plain": [
              "<Figure size 432x288 with 1 Axes>"
            ]
          },
          "metadata": {
            "needs_background": "light"
          }
        }
      ]
    },
    {
      "cell_type": "markdown",
      "metadata": {
        "id": "-hJHWWjY3g_-"
      },
      "source": [
        "I don't know the bottleneck here. I have tried increasing the hidden size and the number of flows, but the estimated density does not seem to fit well. Is that the limitation of the base distribution?"
      ]
    },
    {
      "cell_type": "markdown",
      "metadata": {
        "id": "3K5k8IZiTRY5"
      },
      "source": [
        "### estimate density using IAF"
      ]
    },
    {
      "cell_type": "code",
      "metadata": {
        "colab": {
          "base_uri": "https://localhost:8080/"
        },
        "id": "tNTjSHZoTQpY",
        "outputId": "dac88d37-1143-4a30-da51-e3fde0c45b03"
      },
      "source": [
        "# MADE layer\n",
        "made = tfb.AutoregressiveNetwork(params=2, hidden_units=[512,512])\n",
        "# IAF model \n",
        "iaf = istribution = tfd.TransformedDistribution(\n",
        "    distribution=tfd.MultivariateNormalDiag(loc=[0,0], scale_diag=[1,1]), # base: 2D Gaussian\n",
        "    bijector=tfb.Invert(tfb.MaskedAutoregressiveFlow(made)))  # just need to invert the maf\n",
        "# fit model\n",
        "inputs = tfkl.Input(shape=(2,))\n",
        "outputs = distribution.log_prob(inputs)\n",
        "model = tfk.Model(inputs, outputs)\n",
        "\n",
        "model.compile(optimizer=tf.optimizers.Adam(), loss=neg_log)\n",
        "model.fit(x=data, y=np.zeros(n), epochs=10, verbose=False)"
      ],
      "execution_count": 98,
      "outputs": [
        {
          "output_type": "execute_result",
          "data": {
            "text/plain": [
              "<keras.callbacks.History at 0x7fc4dc36af10>"
            ]
          },
          "metadata": {},
          "execution_count": 98
        }
      ]
    },
    {
      "cell_type": "code",
      "metadata": {
        "colab": {
          "base_uri": "https://localhost:8080/",
          "height": 279
        },
        "id": "M0XN4iK7UKoZ",
        "outputId": "a5f0e851-a944-4a78-ce01-cf6e5a18cc12"
      },
      "source": [
        "# Sampling from the estimated density for visualization\n",
        "\n",
        "samples = distribution.sample(1000)\n",
        "x1_hat = samples[:, 0]\n",
        "x2_hat = samples[:, 1]\n",
        "plt.plot(x1_hat, x2_hat, \"r.\")\n",
        "plt.xlabel(\"X1\")\n",
        "plt.ylabel(\"X2\")\n",
        "plt.show()"
      ],
      "execution_count": 107,
      "outputs": [
        {
          "output_type": "display_data",
          "data": {
            "image/png": "[encoded data removed]",
            "text/plain": [
              "<Figure size 432x288 with 1 Axes>"
            ]
          },
          "metadata": {
            "needs_background": "light"
          }
        }
      ]
    },
    {
      "cell_type": "markdown",
      "metadata": {
        "id": "90h3shoAUUTy"
      },
      "source": [
        "The result is similar to the MAF approach."
      ]
    },
    {
      "cell_type": "markdown",
      "metadata": {
        "id": "tghyuafI99Dz"
      },
      "source": [
        "## 2) Conditional density estimation example"
      ]
    },
    {
      "cell_type": "code",
      "metadata": {
        "colab": {
          "base_uri": "https://localhost:8080/",
          "height": 265
        },
        "id": "3Q7UJXpd-K7S",
        "outputId": "6ef765ad-ea54-4237-e60e-0e7c38fe5b9f"
      },
      "source": [
        "# Generate condition c and data x\n",
        "\n",
        "n = 2000\n",
        "c = np.r_[np.zeros(n//2), np.ones(n//2)]\n",
        "x = np.r_[np.random.randn(n//2), np.random.randn(n//2) + 5]\n",
        "\n",
        "plt.hist(x[:n//2],bins=30)\n",
        "plt.hist(x[n//2:],bins=30,color='g')\n",
        "plt.show()"
      ],
      "execution_count": 55,
      "outputs": [
        {
          "output_type": "display_data",
          "data": {
            "image/png": "[encoded data removed]",
            "text/plain": [
              "<Figure size 432x288 with 1 Axes>"
            ]
          },
          "metadata": {
            "needs_background": "light"
          }
        }
      ]
    },
    {
      "cell_type": "code",
      "metadata": {
        "colab": {
          "base_uri": "https://localhost:8080/"
        },
        "id": "wANPxOJ6ApZ2",
        "outputId": "69cf8f38-6719-4318-8446-2cefd12302ca"
      },
      "source": [
        "# MADE layer\n",
        "made_cond = tfb.AutoregressiveNetwork(params=2, hidden_units=[50, 50], event_shape=(1,),\n",
        "                                 conditional=True, conditional_event_shape=(1,))\n",
        "# MAF model\n",
        "distribution = tfd.TransformedDistribution(\n",
        "    distribution=tfd.Sample(tfd.Normal(loc=0., scale=1.), sample_shape=[1]), # Why we need a Sample function here?\n",
        "    bijector=tfb.MaskedAutoregressiveFlow(made_cond))\n",
        "# fit model\n",
        "inputs_x = tfkl.Input(shape=(1,))\n",
        "inputs_c = tfkl.Input(shape=(1,))\n",
        "outputs = distribution.log_prob(inputs_x, bijector_kwargs={'conditional_input': inputs_c})\n",
        "model = tfk.Model([inputs_x, inputs_c], outputs)\n",
        "\n",
        "model.compile(optimizer=tf.optimizers.Adam(), loss=neg_log)\n",
        "model.fit(x=[x, c], y=np.zeros(n), epochs=10, verbose=False) "
      ],
      "execution_count": 80,
      "outputs": [
        {
          "output_type": "execute_result",
          "data": {
            "text/plain": [
              "<keras.callbacks.History at 0x7fc4e0a94e90>"
            ]
          },
          "metadata": {},
          "execution_count": 80
        }
      ]
    },
    {
      "cell_type": "code",
      "metadata": {
        "colab": {
          "base_uri": "https://localhost:8080/",
          "height": 265
        },
        "id": "5Siyl0V_Fcdz",
        "outputId": "5af51ace-08d3-436e-9248-f5a565b1f2fa"
      },
      "source": [
        "# Sampling from the estimated density for visualization\n",
        "\n",
        "samples_0 = distribution.sample(1000, bijector_kwargs={\"conditional_input\": np.zeros((1000,1))})\n",
        "samples_1 = distribution.sample(1000, bijector_kwargs={\"conditional_input\": np.ones((1000,1))})\n",
        "\n",
        "plt.hist(tf.squeeze(samples_0), bins=30, color='orange')\n",
        "plt.hist(tf.squeeze(samples_1), bins=30, color='r')\n",
        "plt.show()"
      ],
      "execution_count": 89,
      "outputs": [
        {
          "output_type": "display_data",
          "data": {
            "image/png": "[encoded data removed]",
            "text/plain": [
              "<Figure size 432x288 with 1 Axes>"
            ]
          },
          "metadata": {
            "needs_background": "light"
          }
        }
      ]
    },
    {
      "cell_type": "markdown",
      "metadata": {
        "id": "pHuOP_8KOsu_"
      },
      "source": [
        "1D estimated density fits well.\n"
      ]
    },
    {
      "cell_type": "markdown",
      "metadata": {
        "id": "pmWXRhRxpwPn"
      },
      "source": [
        "# References\n",
        "\n",
        "* https://arxiv.org/abs/1606.04934\n",
        "\n",
        "* https://arxiv.org/abs/1705.07057\n",
        "\n",
        "* http://akosiorek.github.io/ml/2018/04/03/norm_flows.html\n",
        "\n",
        "* https://www.ritchievink.com/blog/2019/11/12/another-normalizing-flow-inverse-autoregressive-flows/\n",
        "\n",
        "* https://arxiv.org/abs/2006.10175"
      ]
    }
  ]
}