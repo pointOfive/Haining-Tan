{
  "nbformat": 4,
  "nbformat_minor": 0,
  "metadata": {
    "colab": {
      "name": "Variational Inference",
      "provenance": [],
      "collapsed_sections": [],
      "toc_visible": true
    },
    "kernelspec": {
      "name": "python3",
      "display_name": "Python 3"
    },
    "language_info": {
      "name": "python"
    }
  },
  "cells": [
    {
      "cell_type": "markdown",
      "metadata": {
        "id": "y5YCDDIyByqg"
      },
      "source": [
        "# Variational Inference"
      ]
    },
    {
      "cell_type": "markdown",
      "metadata": {
        "id": "qxtfZcHWscXy"
      },
      "source": [
        "Given observed data $\\mathbf{x}$ and latent variables $\\mathbf{z}$ ($\\mathbf{z}$ can be some model parameter), we are interested in approximating the posterior $p(\\mathbf{z}|\\mathbf{x})$ using a surrogate function $q(\\mathbf{z})$ that is almost as good. Assume $\\mathbf{z} \\sim p(\\mathbf{z})$ is the prior. \n",
        " \n",
        "**Aim**: minimize the KL-divergence $KL[q(\\mathbf{z}) || p(\\mathbf{z}|\\mathbf{x})] = E_{q}[\\log\\frac{q(\\mathbf{z})}{p(\\mathbf{z}|\\mathbf{x})}]$\n",
        "\n",
        "Since we don't know the posterior, derive\n",
        "\n",
        "$\n",
        "\\begin{align*}\n",
        "KL[q(\\mathbf{z}) || p(\\mathbf{z}|\\mathbf{x})] &= E_{q}[\\log\\frac{q(\\mathbf{z})}{p(\\mathbf{z}|\\mathbf{x})}] = E_{q}[\\log\\frac{q(\\mathbf{z})p(\\mathbf{x})}{p(\\mathbf{z},\\mathbf{x})}] \\\\\n",
        "&= \\underbrace{E_{q}[\\log\\frac{q(\\mathbf{z})}{p(\\mathbf{z},\\mathbf{x})}]}_{-ELBO} + \\underbrace{\\log p(\\mathbf{x})}_{\\text{evidence (fixed)}}\n",
        "\\end{align*}\n",
        "$\n",
        "\n",
        "Then we have $\\min_{q} KL = \\max_q ELBO$\n",
        "\n",
        "Note that since $KL[q(\\mathbf{z}) || p(\\mathbf{z}|\\mathbf{x})] \\ge 0$, \n",
        "we have $\\log p(\\mathbf{x}) \\ge ELBO = E_{q}[\\log\\frac{q(\\mathbf{z})}{p(\\mathbf{z},\\mathbf{x})}]$, which is the same as the derivation from Jenson's inequality. Or, from the reverse approach, we can get KL-divergence non-negative from the inequality. "
      ]
    },
    {
      "cell_type": "markdown",
      "metadata": {
        "id": "YphoMSvvadjQ"
      },
      "source": [
        "## References of Variational Inference\n",
        "\n",
        "* https://arxiv.org/abs/1601.00670\n",
        "\n",
        "* https://www.cs.princeton.edu/courses/archive/fall11/cos597C/lectures/variational-inference-i.pdf\n",
        "\n",
        "* https://www.youtube.com/watch?v=HxQ94L8n0vU&t=474s\n"
      ]
    },
    {
      "cell_type": "markdown",
      "metadata": {
        "id": "vSObTWZHB8wf"
      },
      "source": [
        "# Report on previous comments\n",
        "\n",
        "This section summarizes some key points from the comments from Professor Scott Schwartz about variational inference https://github.com/pointOfive/Haining-Tan/blob/main/MADE_comments.ipynb"
      ]
    },
    {
      "cell_type": "markdown",
      "metadata": {
        "id": "LqP4vIiqkj0N"
      },
      "source": [
        "## Set up\n",
        "\n",
        "Model: A simple linear regression $y \\sim N(\\beta_0 + \\beta_1x, \\sigma^2)$\n",
        "\n",
        "Model parameter: ${\\theta} = (\\beta_0, \\beta_1) \\sim p(\\theta)$ prior\n",
        "\n",
        "Variational inference on the model parameter:\n",
        "\n",
        "$\n",
        "\\begin{align*}\n",
        "\\underbrace{\\log p(y)}_{\\text{Fixed marginal}} = E_q[\\log p(y|\\theta)] + \\underbrace{E_q [\\log\\frac{q(\\theta)}{p(\\theta|y)}]}_{KL[q || p(\\theta|y)]} - \\underbrace{E_q[\\log \\frac{q(\\theta)}{p(\\theta)}]}_{KL[q || p(\\theta)]}\n",
        "\\end{align*}\n",
        "$\n",
        "\n",
        "where $q(\\theta)$ is the surrogate posterior used to approximate the true posterior $p(\\theta|y)$"
      ]
    },
    {
      "cell_type": "markdown",
      "metadata": {
        "id": "LBzKG6C0kWJp"
      },
      "source": [
        "I can see the trade-off between the three terms, but I am not sure about the second point. I think you mean the correction between the posterior and the prior, but I did not get the equation here. \n",
        "\n",
        ">2. a correction factor for wrongly integrating over $q(\\theta) \\approx p(\\theta|y) \\not = p(\\theta)$\n",
        "  - since $\\log p(y) = E_{p(\\theta)}[\\log p(y|\\theta)] \\not =  E_{p(\\theta|y)}[\\log p(y|\\theta)].$"
      ]
    },
    {
      "cell_type": "markdown",
      "metadata": {
        "id": "lnH-7EhZlCX2"
      },
      "source": [
        "## Implementation of DenseVariational Layer\n",
        "\n",
        "DenseVariational Layer in TFP approximates the posteror by minimizing the KL-divergence based on the variational inference equation above:\n",
        "\n",
        "$$KL[q|| p(\\theta|y)] = \\log p(y) + E_q[\\log \\frac{q(\\theta)}{p(\\theta)}] - E_q[\\log p(y|\\theta)]$$\n",
        "\n",
        "where the objective is $\\min_q E_q[\\log \\frac{q(\\theta)}{p(\\theta)}] - E_q[\\log p(y|\\theta)]$"
      ]
    },
    {
      "cell_type": "markdown",
      "metadata": {
        "id": "eYsMbdpxuero"
      },
      "source": [
        "* In my understanding, after approximating the posterior distribution for the model parameter $\\theta = (\\beta_0, \\beta_1)$, DenseVariational Layer draws and returns a distribution $N(\\hat\\beta_0 + \\hat\\beta_1x, \\sigma^2)$ from the posterior of $\\beta_0, \\beta_1$\n",
        "\n",
        "* TODO: loss calculation, really struggling here... Not quite see your point addressing the model.losses... \n",
        "\n",
        "* kl-weight should be averaged by the batch size since the kl-divergence is calculated by batch. "
      ]
    },
    {
      "cell_type": "markdown",
      "metadata": {
        "id": "aR4phxqqB2mk"
      },
      "source": [
        "# Gaussian Process"
      ]
    },
    {
      "cell_type": "code",
      "metadata": {
        "id": "imecUVSy_L89"
      },
      "source": [
        "import numpy as np\n",
        "import matplotlib.pyplot as plt\n",
        "import tensorflow as tf\n",
        "import tensorflow_probability as tfp\n",
        "tfd = tfp.distributions\n",
        "tfb = tfp.bijectors\n",
        "tfk = tfp.psd_kernels"
      ],
      "execution_count": 2,
      "outputs": []
    },
    {
      "cell_type": "code",
      "metadata": {
        "colab": {
          "base_uri": "https://localhost:8080/",
          "height": 286
        },
        "id": "bVI_2Ivc_QvN",
        "outputId": "dd1871ef-f10f-4061-b0ac-0e7825aeec29"
      },
      "source": [
        "k = 1\n",
        "b = 5\n",
        "x_min = -50\n",
        "x_max = 50\n",
        "\n",
        "n = 150\n",
        "\n",
        "def aleatoric(x): # variablity function for a particular x\n",
        "  r = (x - x_min) / (x_max - x_min)\n",
        "  return 2 * r\n",
        "\n",
        "def generate_data(n):\n",
        "  x = (x_max - x_min) * np.random.rand(n) + x_min \n",
        "  noise = np.random.randn(n) * aleatoric(x)\n",
        "  y = (k * x * (1 + np.sin(x)) + b) + noise   # add some non-linearity and noise\n",
        "  x = x[..., np.newaxis] # convert to N * 1 matrix\n",
        "  return x, y\n",
        "\n",
        "x_train, y_train = generate_data(n)\n",
        "x_test, y_test = generate_data(n)\n",
        "\n",
        "plt.figure()\n",
        "plt.plot(x_train, y_train, \"b.\")"
      ],
      "execution_count": 3,
      "outputs": [
        {
          "output_type": "execute_result",
          "data": {
            "text/plain": [
              "[<matplotlib.lines.Line2D at 0x7f1a39200dd0>]"
            ]
          },
          "metadata": {},
          "execution_count": 3
        },
        {
          "output_type": "display_data",
          "data": {
            "image/png": "[encoded data removed]",
            "text/plain": [
              "<Figure size 432x288 with 1 Axes>"
            ]
          },
          "metadata": {
            "needs_background": "light"
          }
        }
      ]
    },
    {
      "cell_type": "markdown",
      "metadata": {
        "id": "PbMO-kNHckc9"
      },
      "source": [
        "TODO: will finish soon "
      ]
    }
  ]
}